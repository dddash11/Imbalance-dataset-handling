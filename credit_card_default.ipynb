{
 "cells": [
  {
   "cell_type": "code",
   "execution_count": 1,
   "metadata": {},
   "outputs": [],
   "source": [
    "import pandas as pd\n",
    "import numpy as np\n",
    "import matplotlib.pyplot as plt\n",
    "import seaborn as sns\n",
    "%matplotlib inline\n",
    "\n",
    "from sklearn.preprocessing import LabelEncoder, StandardScaler\n",
    "from sklearn.model_selection import train_test_split\n",
    "from sklearn.linear_model import LogisticRegression\n",
    "from sklearn.naive_bayes import GaussianNB\n",
    "from sklearn.tree import DecisionTreeClassifier\n",
    "from sklearn.ensemble import RandomForestClassifier\n",
    "\n",
    "from sklearn.metrics import mean_squared_error, f1_score, accuracy_score"
   ]
  },
  {
   "cell_type": "code",
   "execution_count": 2,
   "metadata": {},
   "outputs": [],
   "source": [
    "train = pd.read_csv(\"train.csv\")\n",
    "test = pd.read_csv(\"test.csv\")"
   ]
  },
  {
   "cell_type": "code",
   "execution_count": 3,
   "metadata": {},
   "outputs": [
    {
     "data": {
      "text/plain": [
       "((45528, 19), (11383, 18))"
      ]
     },
     "execution_count": 3,
     "metadata": {},
     "output_type": "execute_result"
    }
   ],
   "source": [
    "train.shape, test.shape"
   ]
  },
  {
   "cell_type": "code",
   "execution_count": 4,
   "metadata": {},
   "outputs": [
    {
     "data": {
      "text/html": [
       "<div>\n",
       "<style scoped>\n",
       "    .dataframe tbody tr th:only-of-type {\n",
       "        vertical-align: middle;\n",
       "    }\n",
       "\n",
       "    .dataframe tbody tr th {\n",
       "        vertical-align: top;\n",
       "    }\n",
       "\n",
       "    .dataframe thead th {\n",
       "        text-align: right;\n",
       "    }\n",
       "</style>\n",
       "<table border=\"1\" class=\"dataframe\">\n",
       "  <thead>\n",
       "    <tr style=\"text-align: right;\">\n",
       "      <th></th>\n",
       "      <th>customer_id</th>\n",
       "      <th>name</th>\n",
       "      <th>age</th>\n",
       "      <th>gender</th>\n",
       "      <th>owns_car</th>\n",
       "      <th>owns_house</th>\n",
       "      <th>no_of_children</th>\n",
       "      <th>net_yearly_income</th>\n",
       "      <th>no_of_days_employed</th>\n",
       "      <th>occupation_type</th>\n",
       "      <th>total_family_members</th>\n",
       "      <th>migrant_worker</th>\n",
       "      <th>yearly_debt_payments</th>\n",
       "      <th>credit_limit</th>\n",
       "      <th>credit_limit_used(%)</th>\n",
       "      <th>credit_score</th>\n",
       "      <th>prev_defaults</th>\n",
       "      <th>default_in_last_6months</th>\n",
       "    </tr>\n",
       "  </thead>\n",
       "  <tbody>\n",
       "    <tr>\n",
       "      <th>0</th>\n",
       "      <td>CST_142525</td>\n",
       "      <td>Siva</td>\n",
       "      <td>52</td>\n",
       "      <td>F</td>\n",
       "      <td>Y</td>\n",
       "      <td>N</td>\n",
       "      <td>0.0</td>\n",
       "      <td>232640.53</td>\n",
       "      <td>998.0</td>\n",
       "      <td>Unknown</td>\n",
       "      <td>2.0</td>\n",
       "      <td>0.0</td>\n",
       "      <td>14406.73</td>\n",
       "      <td>26524.40</td>\n",
       "      <td>4</td>\n",
       "      <td>779.0</td>\n",
       "      <td>0</td>\n",
       "      <td>0</td>\n",
       "    </tr>\n",
       "    <tr>\n",
       "      <th>1</th>\n",
       "      <td>CST_129215</td>\n",
       "      <td>Scott</td>\n",
       "      <td>48</td>\n",
       "      <td>F</td>\n",
       "      <td>N</td>\n",
       "      <td>N</td>\n",
       "      <td>1.0</td>\n",
       "      <td>284396.79</td>\n",
       "      <td>1338.0</td>\n",
       "      <td>Unknown</td>\n",
       "      <td>3.0</td>\n",
       "      <td>0.0</td>\n",
       "      <td>57479.99</td>\n",
       "      <td>68998.72</td>\n",
       "      <td>70</td>\n",
       "      <td>806.0</td>\n",
       "      <td>0</td>\n",
       "      <td>0</td>\n",
       "    </tr>\n",
       "    <tr>\n",
       "      <th>2</th>\n",
       "      <td>CST_138443</td>\n",
       "      <td>Victoria</td>\n",
       "      <td>50</td>\n",
       "      <td>F</td>\n",
       "      <td>N</td>\n",
       "      <td>N</td>\n",
       "      <td>1.0</td>\n",
       "      <td>149419.28</td>\n",
       "      <td>1210.0</td>\n",
       "      <td>Unknown</td>\n",
       "      <td>3.0</td>\n",
       "      <td>0.0</td>\n",
       "      <td>21611.01</td>\n",
       "      <td>25187.80</td>\n",
       "      <td>71</td>\n",
       "      <td>528.0</td>\n",
       "      <td>2</td>\n",
       "      <td>0</td>\n",
       "    </tr>\n",
       "    <tr>\n",
       "      <th>3</th>\n",
       "      <td>CST_123812</td>\n",
       "      <td>John McCrank</td>\n",
       "      <td>30</td>\n",
       "      <td>F</td>\n",
       "      <td>N</td>\n",
       "      <td>N</td>\n",
       "      <td>1.0</td>\n",
       "      <td>160437.54</td>\n",
       "      <td>503.0</td>\n",
       "      <td>Laborers</td>\n",
       "      <td>2.0</td>\n",
       "      <td>1.0</td>\n",
       "      <td>28990.76</td>\n",
       "      <td>29179.39</td>\n",
       "      <td>9</td>\n",
       "      <td>815.0</td>\n",
       "      <td>0</td>\n",
       "      <td>0</td>\n",
       "    </tr>\n",
       "    <tr>\n",
       "      <th>4</th>\n",
       "      <td>CST_144450</td>\n",
       "      <td>Martinne</td>\n",
       "      <td>52</td>\n",
       "      <td>M</td>\n",
       "      <td>N</td>\n",
       "      <td>Y</td>\n",
       "      <td>0.0</td>\n",
       "      <td>233480.37</td>\n",
       "      <td>157.0</td>\n",
       "      <td>Laborers</td>\n",
       "      <td>2.0</td>\n",
       "      <td>1.0</td>\n",
       "      <td>54213.72</td>\n",
       "      <td>82331.82</td>\n",
       "      <td>82</td>\n",
       "      <td>613.0</td>\n",
       "      <td>1</td>\n",
       "      <td>1</td>\n",
       "    </tr>\n",
       "  </tbody>\n",
       "</table>\n",
       "</div>"
      ],
      "text/plain": [
       "  customer_id          name  age gender owns_car owns_house  no_of_children  \\\n",
       "0  CST_142525          Siva   52      F        Y          N             0.0   \n",
       "1  CST_129215         Scott   48      F        N          N             1.0   \n",
       "2  CST_138443      Victoria   50      F        N          N             1.0   \n",
       "3  CST_123812  John McCrank   30      F        N          N             1.0   \n",
       "4  CST_144450      Martinne   52      M        N          Y             0.0   \n",
       "\n",
       "   net_yearly_income  no_of_days_employed occupation_type  \\\n",
       "0          232640.53                998.0         Unknown   \n",
       "1          284396.79               1338.0         Unknown   \n",
       "2          149419.28               1210.0         Unknown   \n",
       "3          160437.54                503.0        Laborers   \n",
       "4          233480.37                157.0        Laborers   \n",
       "\n",
       "   total_family_members  migrant_worker  yearly_debt_payments  credit_limit  \\\n",
       "0                   2.0             0.0              14406.73      26524.40   \n",
       "1                   3.0             0.0              57479.99      68998.72   \n",
       "2                   3.0             0.0              21611.01      25187.80   \n",
       "3                   2.0             1.0              28990.76      29179.39   \n",
       "4                   2.0             1.0              54213.72      82331.82   \n",
       "\n",
       "   credit_limit_used(%)  credit_score  prev_defaults  default_in_last_6months  \n",
       "0                     4         779.0              0                        0  \n",
       "1                    70         806.0              0                        0  \n",
       "2                    71         528.0              2                        0  \n",
       "3                     9         815.0              0                        0  \n",
       "4                    82         613.0              1                        1  "
      ]
     },
     "execution_count": 4,
     "metadata": {},
     "output_type": "execute_result"
    }
   ],
   "source": [
    "test.head()"
   ]
  },
  {
   "cell_type": "code",
   "execution_count": 5,
   "metadata": {},
   "outputs": [
    {
     "name": "stdout",
     "output_type": "stream",
     "text": [
      "<class 'pandas.core.frame.DataFrame'>\n",
      "RangeIndex: 45528 entries, 0 to 45527\n",
      "Data columns (total 19 columns):\n",
      " #   Column                   Non-Null Count  Dtype  \n",
      "---  ------                   --------------  -----  \n",
      " 0   customer_id              45528 non-null  object \n",
      " 1   name                     45528 non-null  object \n",
      " 2   age                      45528 non-null  int64  \n",
      " 3   gender                   45528 non-null  object \n",
      " 4   owns_car                 44981 non-null  object \n",
      " 5   owns_house               45528 non-null  object \n",
      " 6   no_of_children           44754 non-null  float64\n",
      " 7   net_yearly_income        45528 non-null  float64\n",
      " 8   no_of_days_employed      45065 non-null  float64\n",
      " 9   occupation_type          45528 non-null  object \n",
      " 10  total_family_members     45445 non-null  float64\n",
      " 11  migrant_worker           45441 non-null  float64\n",
      " 12  yearly_debt_payments     45433 non-null  float64\n",
      " 13  credit_limit             45528 non-null  float64\n",
      " 14  credit_limit_used(%)     45528 non-null  int64  \n",
      " 15  credit_score             45520 non-null  float64\n",
      " 16  prev_defaults            45528 non-null  int64  \n",
      " 17  default_in_last_6months  45528 non-null  int64  \n",
      " 18  credit_card_default      45528 non-null  int64  \n",
      "dtypes: float64(8), int64(5), object(6)\n",
      "memory usage: 6.6+ MB\n"
     ]
    }
   ],
   "source": [
    "train.info()"
   ]
  },
  {
   "cell_type": "code",
   "execution_count": 6,
   "metadata": {},
   "outputs": [
    {
     "name": "stdout",
     "output_type": "stream",
     "text": [
      "<class 'pandas.core.frame.DataFrame'>\n",
      "RangeIndex: 11383 entries, 0 to 11382\n",
      "Data columns (total 18 columns):\n",
      " #   Column                   Non-Null Count  Dtype  \n",
      "---  ------                   --------------  -----  \n",
      " 0   customer_id              11383 non-null  object \n",
      " 1   name                     11383 non-null  object \n",
      " 2   age                      11383 non-null  int64  \n",
      " 3   gender                   11383 non-null  object \n",
      " 4   owns_car                 11251 non-null  object \n",
      " 5   owns_house               11383 non-null  object \n",
      " 6   no_of_children           11193 non-null  float64\n",
      " 7   net_yearly_income        11383 non-null  float64\n",
      " 8   no_of_days_employed      11278 non-null  float64\n",
      " 9   occupation_type          11383 non-null  object \n",
      " 10  total_family_members     11352 non-null  float64\n",
      " 11  migrant_worker           11357 non-null  float64\n",
      " 12  yearly_debt_payments     11361 non-null  float64\n",
      " 13  credit_limit             11383 non-null  float64\n",
      " 14  credit_limit_used(%)     11383 non-null  int64  \n",
      " 15  credit_score             11380 non-null  float64\n",
      " 16  prev_defaults            11383 non-null  int64  \n",
      " 17  default_in_last_6months  11383 non-null  int64  \n",
      "dtypes: float64(8), int64(4), object(6)\n",
      "memory usage: 1.6+ MB\n"
     ]
    }
   ],
   "source": [
    "test.info()"
   ]
  },
  {
   "cell_type": "markdown",
   "metadata": {},
   "source": [
    "#### Null value handling"
   ]
  },
  {
   "cell_type": "code",
   "execution_count": 7,
   "metadata": {},
   "outputs": [
    {
     "name": "stdout",
     "output_type": "stream",
     "text": [
      "N    29743\n",
      "Y    15238\n",
      "Name: owns_car, dtype: int64\n",
      "0.0    31241\n",
      "1.0     8985\n",
      "2.0     3862\n",
      "3.0      584\n",
      "4.0       60\n",
      "5.0       13\n",
      "6.0        6\n",
      "8.0        1\n",
      "7.0        1\n",
      "9.0        1\n",
      "Name: no_of_children, dtype: int64\n",
      "2.0     23455\n",
      "1.0      9913\n",
      "3.0      7812\n",
      "4.0      3623\n",
      "5.0       564\n",
      "6.0        57\n",
      "7.0        12\n",
      "8.0         6\n",
      "10.0        2\n",
      "9.0         1\n",
      "Name: total_family_members, dtype: int64\n",
      "0.0    37302\n",
      "1.0     8139\n",
      "Name: migrant_worker, dtype: int64\n"
     ]
    }
   ],
   "source": [
    "print(train.owns_car.value_counts())\n",
    "print(train.no_of_children.value_counts())\n",
    "print(train.total_family_members.value_counts())\n",
    "print(train.migrant_worker.value_counts())"
   ]
  },
  {
   "cell_type": "code",
   "execution_count": 8,
   "metadata": {},
   "outputs": [
    {
     "name": "stdout",
     "output_type": "stream",
     "text": [
      "N N\n",
      "0.0 0.0\n",
      "2.0 2.0\n",
      "0.0 0.0\n"
     ]
    }
   ],
   "source": [
    "print(train[\"owns_car\"].mode()[0], test[\"owns_car\"].mode()[0])\n",
    "print(train[\"no_of_children\"].mode()[0], test[\"no_of_children\"].mode()[0])\n",
    "print(train[\"total_family_members\"].mode()[0],test[\"total_family_members\"].mode()[0])\n",
    "print(train[\"migrant_worker\"].mode()[0], test[\"migrant_worker\"].mode()[0])"
   ]
  },
  {
   "cell_type": "code",
   "execution_count": 9,
   "metadata": {},
   "outputs": [],
   "source": [
    "#replace with mode\n",
    "train[\"owns_car\"].fillna(train[\"owns_car\"].mode()[0], inplace=True)\n",
    "test[\"owns_car\"].fillna(test[\"owns_car\"].mode()[0], inplace=True)\n",
    "\n",
    "train[\"no_of_children\"].fillna(train[\"no_of_children\"].mode()[0], inplace=True)\n",
    "test[\"no_of_children\"].fillna(test[\"no_of_children\"].mode()[0], inplace=True)\n",
    "\n",
    "train[\"total_family_members\"].fillna(train[\"total_family_members\"].mode()[0], inplace=True)\n",
    "test[\"total_family_members\"].fillna(test[\"total_family_members\"].mode()[0], inplace=True)\n",
    "\n",
    "train[\"migrant_worker\"].fillna(train[\"migrant_worker\"].mode()[0], inplace=True)\n",
    "test[\"migrant_worker\"].fillna(test[\"migrant_worker\"].mode()[0], inplace=True)"
   ]
  },
  {
   "cell_type": "code",
   "execution_count": 10,
   "metadata": {},
   "outputs": [
    {
     "name": "stdout",
     "output_type": "stream",
     "text": [
      "<class 'pandas.core.frame.DataFrame'>\n",
      "RangeIndex: 45528 entries, 0 to 45527\n",
      "Data columns (total 19 columns):\n",
      " #   Column                   Non-Null Count  Dtype  \n",
      "---  ------                   --------------  -----  \n",
      " 0   customer_id              45528 non-null  object \n",
      " 1   name                     45528 non-null  object \n",
      " 2   age                      45528 non-null  int64  \n",
      " 3   gender                   45528 non-null  object \n",
      " 4   owns_car                 45528 non-null  object \n",
      " 5   owns_house               45528 non-null  object \n",
      " 6   no_of_children           45528 non-null  float64\n",
      " 7   net_yearly_income        45528 non-null  float64\n",
      " 8   no_of_days_employed      45065 non-null  float64\n",
      " 9   occupation_type          45528 non-null  object \n",
      " 10  total_family_members     45528 non-null  float64\n",
      " 11  migrant_worker           45528 non-null  float64\n",
      " 12  yearly_debt_payments     45433 non-null  float64\n",
      " 13  credit_limit             45528 non-null  float64\n",
      " 14  credit_limit_used(%)     45528 non-null  int64  \n",
      " 15  credit_score             45520 non-null  float64\n",
      " 16  prev_defaults            45528 non-null  int64  \n",
      " 17  default_in_last_6months  45528 non-null  int64  \n",
      " 18  credit_card_default      45528 non-null  int64  \n",
      "dtypes: float64(8), int64(5), object(6)\n",
      "memory usage: 6.6+ MB\n"
     ]
    }
   ],
   "source": [
    "train.info()"
   ]
  },
  {
   "cell_type": "code",
   "execution_count": 11,
   "metadata": {},
   "outputs": [
    {
     "name": "stdout",
     "output_type": "stream",
     "text": [
      "<class 'pandas.core.frame.DataFrame'>\n",
      "RangeIndex: 11383 entries, 0 to 11382\n",
      "Data columns (total 18 columns):\n",
      " #   Column                   Non-Null Count  Dtype  \n",
      "---  ------                   --------------  -----  \n",
      " 0   customer_id              11383 non-null  object \n",
      " 1   name                     11383 non-null  object \n",
      " 2   age                      11383 non-null  int64  \n",
      " 3   gender                   11383 non-null  object \n",
      " 4   owns_car                 11383 non-null  object \n",
      " 5   owns_house               11383 non-null  object \n",
      " 6   no_of_children           11383 non-null  float64\n",
      " 7   net_yearly_income        11383 non-null  float64\n",
      " 8   no_of_days_employed      11278 non-null  float64\n",
      " 9   occupation_type          11383 non-null  object \n",
      " 10  total_family_members     11383 non-null  float64\n",
      " 11  migrant_worker           11383 non-null  float64\n",
      " 12  yearly_debt_payments     11361 non-null  float64\n",
      " 13  credit_limit             11383 non-null  float64\n",
      " 14  credit_limit_used(%)     11383 non-null  int64  \n",
      " 15  credit_score             11380 non-null  float64\n",
      " 16  prev_defaults            11383 non-null  int64  \n",
      " 17  default_in_last_6months  11383 non-null  int64  \n",
      "dtypes: float64(8), int64(4), object(6)\n",
      "memory usage: 1.6+ MB\n"
     ]
    }
   ],
   "source": [
    "test.info()"
   ]
  },
  {
   "cell_type": "code",
   "execution_count": 12,
   "metadata": {},
   "outputs": [
    {
     "data": {
      "text/plain": [
       "<AxesSubplot:xlabel='net_yearly_income'>"
      ]
     },
     "execution_count": 12,
     "metadata": {},
     "output_type": "execute_result"
    },
    {
     "data": {
      "image/png": "[encoded data removed]",
      "text/plain": [
       "<Figure size 432x288 with 1 Axes>"
      ]
     },
     "metadata": {
      "needs_background": "light"
     },
     "output_type": "display_data"
    }
   ],
   "source": [
    "sns.boxplot(train.net_yearly_income)"
   ]
  },
  {
   "cell_type": "code",
   "execution_count": 13,
   "metadata": {},
   "outputs": [
    {
     "data": {
      "text/plain": [
       "<AxesSubplot:xlabel='no_of_days_employed', ylabel='no_of_days_employed'>"
      ]
     },
     "execution_count": 13,
     "metadata": {},
     "output_type": "execute_result"
    },
    {
     "data": {
      "image/png": "[encoded data removed]",
      "text/plain": [
       "<Figure size 432x288 with 1 Axes>"
      ]
     },
     "metadata": {
      "needs_background": "light"
     },
     "output_type": "display_data"
    }
   ],
   "source": [
    "sns.scatterplot(data=train, x=train.no_of_days_employed, y=train.no_of_days_employed.value_counts())"
   ]
  },
  {
   "cell_type": "code",
   "execution_count": 14,
   "metadata": {},
   "outputs": [
    {
     "data": {
      "text/plain": [
       "<AxesSubplot:>"
      ]
     },
     "execution_count": 14,
     "metadata": {},
     "output_type": "execute_result"
    },
    {
     "data": {
      "image/png": "[encoded data removed]",
      "text/plain": [
       "<Figure size 432x288 with 3 Axes>"
      ]
     },
     "metadata": {
      "needs_background": "light"
     },
     "output_type": "display_data"
    }
   ],
   "source": [
    "fig, axes = plt.subplots(1, 3)\n",
    "\n",
    "fig.suptitle('detecting outliers in training set with null values')\n",
    "\n",
    "sns.boxplot(ax=axes[0], data=train.no_of_days_employed)\n",
    "sns.boxplot(ax=axes[1], data=train.yearly_debt_payments)\n",
    "sns.boxplot(ax=axes[2], data=train.credit_score)"
   ]
  },
  {
   "cell_type": "markdown",
   "metadata": {},
   "source": [
    "Since a lot of outliers are present in the dataset, I am not removing them. But I will find the mean of the rest of the data and replace it with the null values"
   ]
  },
  {
   "cell_type": "code",
   "execution_count": 15,
   "metadata": {},
   "outputs": [],
   "source": [
    "df = pd.concat([train, test], axis=0)"
   ]
  },
  {
   "cell_type": "code",
   "execution_count": 16,
   "metadata": {},
   "outputs": [
    {
     "data": {
      "text/plain": [
       "<AxesSubplot:xlabel='yearly_debt_payments'>"
      ]
     },
     "execution_count": 16,
     "metadata": {},
     "output_type": "execute_result"
    },
    {
     "data": {
      "image/png": "[encoded data removed]",
      "text/plain": [
       "<Figure size 432x288 with 1 Axes>"
      ]
     },
     "metadata": {
      "needs_background": "light"
     },
     "output_type": "display_data"
    }
   ],
   "source": [
    "sns.boxplot(df.yearly_debt_payments)"
   ]
  },
  {
   "cell_type": "code",
   "execution_count": 17,
   "metadata": {},
   "outputs": [
    {
     "name": "stdout",
     "output_type": "stream",
     "text": [
      "Yearly debt payments null value handling\n",
      "Total null values in yearly debt payments in both train and test:  117\n",
      "Null value percent:  0.2055841577199487 %\n",
      "\n",
      "Outliers detection using IQR\n",
      "First quantile:  19293.0\n",
      "3rd quantile:  40599.0525\n",
      "IQR:  21306.052499999998\n",
      "threshold:  31959.078749999997\n",
      "Percentage of outliers:  2.392858400535268 %\n",
      "\n",
      "\n",
      "Mean excluding outliers:  30383.314303355415\n",
      "Mean including outliers:  31853.376781350144\n",
      "difference:  1470.0624779947284\n"
     ]
    }
   ],
   "source": [
    "print(\"Yearly debt payments null value handling\")\n",
    "\n",
    "print(\"Total null values in yearly debt payments in both train and test: \", df.yearly_debt_payments.isnull().sum())\n",
    "print(\"Null value percent: \",(df.yearly_debt_payments.isnull().sum()*100)/len(df.yearly_debt_payments), \"%\")\n",
    "\n",
    "print(\"\\nOutliers detection using IQR\")\n",
    "\n",
    "Q1_ydp = df[\"yearly_debt_payments\"].quantile(0.25)\n",
    "Q3_ydp = df[\"yearly_debt_payments\"].quantile(0.75)\n",
    "\n",
    "print(\"First quantile: \",Q1_ydp)\n",
    "print(\"3rd quantile: \",Q3_ydp)\n",
    "\n",
    "IQR_ydp = Q3_ydp - Q1_ydp\n",
    "print(\"IQR: \",IQR_ydp)\n",
    "print(\"threshold: \", 1.5*IQR_ydp)\n",
    "\n",
    "ydp_out = df[np.logical_or(df[\"yearly_debt_payments\"] < (Q1_ydp - (1.5 * IQR_ydp)), df[\"yearly_debt_payments\"] > (Q3_ydp + (1.5 * IQR_ydp)))]\n",
    "\n",
    "print(\"Percentage of outliers: \", ((ydp_out.shape[0]/(df.shape[0]-df.yearly_debt_payments.isnull().sum()))*100), \"%\")\n",
    "\n",
    "ydp_mean_replace = (df.yearly_debt_payments.sum() - ydp_out.yearly_debt_payments.sum()) / (len(df.yearly_debt_payments) - len(ydp_out.yearly_debt_payments))\n",
    "\n",
    "print(\"\\n\")\n",
    "print(\"Mean excluding outliers: \",ydp_mean_replace)\n",
    "print(\"Mean including outliers: \",df[\"yearly_debt_payments\"].mean())\n",
    "print(\"difference: \", df[\"yearly_debt_payments\"].mean()-ydp_mean_replace)\n",
    "\n",
    "#replace with mean\n",
    "train[\"yearly_debt_payments\"].fillna(ydp_mean_replace, inplace=True)\n",
    "test[\"yearly_debt_payments\"].fillna(ydp_mean_replace, inplace=True)"
   ]
  },
  {
   "cell_type": "code",
   "execution_count": 18,
   "metadata": {},
   "outputs": [
    {
     "data": {
      "text/plain": [
       "<AxesSubplot:>"
      ]
     },
     "execution_count": 18,
     "metadata": {},
     "output_type": "execute_result"
    },
    {
     "data": {
      "image/png": "[encoded data removed]",
      "text/plain": [
       "<Figure size 432x288 with 1 Axes>"
      ]
     },
     "metadata": {
      "needs_background": "light"
     },
     "output_type": "display_data"
    }
   ],
   "source": [
    "df.no_of_days_employed.plot(kind=\"box\")"
   ]
  },
  {
   "cell_type": "code",
   "execution_count": 19,
   "metadata": {},
   "outputs": [
    {
     "name": "stdout",
     "output_type": "stream",
     "text": [
      "Number of days employed null value handling\n",
      "Total null values in yearly debt payments in both train and test:  568\n",
      "Null value percent:  0.9980495861959903 %\n",
      "\n",
      "Outliers detection using IQR\n",
      "First quantile:  936.0\n",
      "3rd quantile:  5749.0\n",
      "IQR:  4813.0\n",
      "threshold:  7219.5\n",
      "Percentage of outliers:  18.163747049322897 %\n",
      "\n",
      "\n",
      "Mean excluding outliers:  67135.21212557604\n",
      "Mean including outliers:  67191.04248975028\n",
      "difference:  55.83036417423864\n"
     ]
    }
   ],
   "source": [
    "print(\"Number of days employed null value handling\")\n",
    "\n",
    "print(\"Total null values in yearly debt payments in both train and test: \", df.no_of_days_employed.isnull().sum())\n",
    "print(\"Null value percent: \",(df.no_of_days_employed.isnull().sum()*100)/len(df.no_of_days_employed), \"%\")\n",
    "\n",
    "print(\"\\nOutliers detection using IQR\")\n",
    "\n",
    "Q1_nde = df[\"no_of_days_employed\"].quantile(0.25)\n",
    "Q3_nde = df[\"no_of_days_employed\"].quantile(0.75)\n",
    "\n",
    "print(\"First quantile: \",Q1_nde)\n",
    "print(\"3rd quantile: \",Q3_nde)\n",
    "\n",
    "IQR_nde = Q3_nde - Q1_nde\n",
    "print(\"IQR: \",IQR_nde)\n",
    "print(\"threshold: \", 1.5*IQR_nde)\n",
    "\n",
    "nde_out = df[np.logical_or(df[\"no_of_days_employed\"] < (Q1_nde - (1.5 * IQR_nde)), df[\"no_of_days_employed\"] > (Q3_nde + (1.5 * IQR_nde)))]\n",
    "\n",
    "print(\"Percentage of outliers: \", ((nde_out.shape[0]/(df.shape[0]-df.no_of_days_employed.isnull().sum()))*100), \"%\")\n",
    "\n",
    "nde_mean_replace = (df.no_of_days_employed.sum() - ydp_out.no_of_days_employed.sum()) / (len(df.no_of_days_employed) - len(ydp_out.no_of_days_employed))\n",
    "\n",
    "print(\"\\n\")\n",
    "print(\"Mean excluding outliers: \",nde_mean_replace)\n",
    "print(\"Mean including outliers: \",df[\"no_of_days_employed\"].mean())\n",
    "print(\"difference: \", df[\"no_of_days_employed\"].mean()-nde_mean_replace)\n",
    "\n",
    "#replace with mean\n",
    "train[\"no_of_days_employed\"].fillna(nde_mean_replace, inplace=True)\n",
    "test[\"no_of_days_employed\"].fillna(nde_mean_replace, inplace=True)"
   ]
  },
  {
   "cell_type": "code",
   "execution_count": 20,
   "metadata": {},
   "outputs": [
    {
     "data": {
      "text/html": [
       "<div>\n",
       "<style scoped>\n",
       "    .dataframe tbody tr th:only-of-type {\n",
       "        vertical-align: middle;\n",
       "    }\n",
       "\n",
       "    .dataframe tbody tr th {\n",
       "        vertical-align: top;\n",
       "    }\n",
       "\n",
       "    .dataframe thead th {\n",
       "        text-align: right;\n",
       "    }\n",
       "</style>\n",
       "<table border=\"1\" class=\"dataframe\">\n",
       "  <thead>\n",
       "    <tr style=\"text-align: right;\">\n",
       "      <th></th>\n",
       "      <th>customer_id</th>\n",
       "      <th>name</th>\n",
       "      <th>age</th>\n",
       "      <th>gender</th>\n",
       "      <th>owns_car</th>\n",
       "      <th>owns_house</th>\n",
       "      <th>no_of_children</th>\n",
       "      <th>net_yearly_income</th>\n",
       "      <th>no_of_days_employed</th>\n",
       "      <th>occupation_type</th>\n",
       "      <th>total_family_members</th>\n",
       "      <th>migrant_worker</th>\n",
       "      <th>yearly_debt_payments</th>\n",
       "      <th>credit_limit</th>\n",
       "      <th>credit_limit_used(%)</th>\n",
       "      <th>credit_score</th>\n",
       "      <th>prev_defaults</th>\n",
       "      <th>default_in_last_6months</th>\n",
       "    </tr>\n",
       "  </thead>\n",
       "  <tbody>\n",
       "    <tr>\n",
       "      <th>8726</th>\n",
       "      <td>CST_127568</td>\n",
       "      <td>Richwine</td>\n",
       "      <td>27</td>\n",
       "      <td>F</td>\n",
       "      <td>N</td>\n",
       "      <td>N</td>\n",
       "      <td>2.0</td>\n",
       "      <td>203470.8</td>\n",
       "      <td>-3.0</td>\n",
       "      <td>Unknown</td>\n",
       "      <td>3.0</td>\n",
       "      <td>0.0</td>\n",
       "      <td>39276.77</td>\n",
       "      <td>41847.94</td>\n",
       "      <td>39</td>\n",
       "      <td>710.0</td>\n",
       "      <td>0</td>\n",
       "      <td>0</td>\n",
       "    </tr>\n",
       "  </tbody>\n",
       "</table>\n",
       "</div>"
      ],
      "text/plain": [
       "     customer_id      name  age gender owns_car owns_house  no_of_children  \\\n",
       "8726  CST_127568  Richwine   27      F        N          N             2.0   \n",
       "\n",
       "      net_yearly_income  no_of_days_employed occupation_type  \\\n",
       "8726           203470.8                 -3.0         Unknown   \n",
       "\n",
       "      total_family_members  migrant_worker  yearly_debt_payments  \\\n",
       "8726                   3.0             0.0              39276.77   \n",
       "\n",
       "      credit_limit  credit_limit_used(%)  credit_score  prev_defaults  \\\n",
       "8726      41847.94                    39         710.0              0   \n",
       "\n",
       "      default_in_last_6months  \n",
       "8726                        0  "
      ]
     },
     "execution_count": 20,
     "metadata": {},
     "output_type": "execute_result"
    }
   ],
   "source": [
    "test[test.customer_id == 'CST_127568']"
   ]
  },
  {
   "cell_type": "code",
   "execution_count": 21,
   "metadata": {},
   "outputs": [],
   "source": [
    "test.loc[8726, 'no_of_days_employed'] = df[\"no_of_days_employed\"].mean()"
   ]
  },
  {
   "cell_type": "code",
   "execution_count": 22,
   "metadata": {},
   "outputs": [
    {
     "data": {
      "text/html": [
       "<div>\n",
       "<style scoped>\n",
       "    .dataframe tbody tr th:only-of-type {\n",
       "        vertical-align: middle;\n",
       "    }\n",
       "\n",
       "    .dataframe tbody tr th {\n",
       "        vertical-align: top;\n",
       "    }\n",
       "\n",
       "    .dataframe thead th {\n",
       "        text-align: right;\n",
       "    }\n",
       "</style>\n",
       "<table border=\"1\" class=\"dataframe\">\n",
       "  <thead>\n",
       "    <tr style=\"text-align: right;\">\n",
       "      <th></th>\n",
       "      <th>customer_id</th>\n",
       "      <th>name</th>\n",
       "      <th>age</th>\n",
       "      <th>gender</th>\n",
       "      <th>owns_car</th>\n",
       "      <th>owns_house</th>\n",
       "      <th>no_of_children</th>\n",
       "      <th>net_yearly_income</th>\n",
       "      <th>no_of_days_employed</th>\n",
       "      <th>occupation_type</th>\n",
       "      <th>total_family_members</th>\n",
       "      <th>migrant_worker</th>\n",
       "      <th>yearly_debt_payments</th>\n",
       "      <th>credit_limit</th>\n",
       "      <th>credit_limit_used(%)</th>\n",
       "      <th>credit_score</th>\n",
       "      <th>prev_defaults</th>\n",
       "      <th>default_in_last_6months</th>\n",
       "    </tr>\n",
       "  </thead>\n",
       "  <tbody>\n",
       "    <tr>\n",
       "      <th>8726</th>\n",
       "      <td>CST_127568</td>\n",
       "      <td>Richwine</td>\n",
       "      <td>27</td>\n",
       "      <td>F</td>\n",
       "      <td>N</td>\n",
       "      <td>N</td>\n",
       "      <td>2.0</td>\n",
       "      <td>203470.8</td>\n",
       "      <td>67191.04249</td>\n",
       "      <td>Unknown</td>\n",
       "      <td>3.0</td>\n",
       "      <td>0.0</td>\n",
       "      <td>39276.77</td>\n",
       "      <td>41847.94</td>\n",
       "      <td>39</td>\n",
       "      <td>710.0</td>\n",
       "      <td>0</td>\n",
       "      <td>0</td>\n",
       "    </tr>\n",
       "  </tbody>\n",
       "</table>\n",
       "</div>"
      ],
      "text/plain": [
       "     customer_id      name  age gender owns_car owns_house  no_of_children  \\\n",
       "8726  CST_127568  Richwine   27      F        N          N             2.0   \n",
       "\n",
       "      net_yearly_income  no_of_days_employed occupation_type  \\\n",
       "8726           203470.8          67191.04249         Unknown   \n",
       "\n",
       "      total_family_members  migrant_worker  yearly_debt_payments  \\\n",
       "8726                   3.0             0.0              39276.77   \n",
       "\n",
       "      credit_limit  credit_limit_used(%)  credit_score  prev_defaults  \\\n",
       "8726      41847.94                    39         710.0              0   \n",
       "\n",
       "      default_in_last_6months  \n",
       "8726                        0  "
      ]
     },
     "execution_count": 22,
     "metadata": {},
     "output_type": "execute_result"
    }
   ],
   "source": [
    "test[test.customer_id == 'CST_127568']"
   ]
  },
  {
   "cell_type": "code",
   "execution_count": 23,
   "metadata": {},
   "outputs": [],
   "source": [
    "# since no outliers in credit score column  directly replace with mean\n",
    "train[\"credit_score\"].fillna(df[\"credit_score\"].mean(), inplace=True)\n",
    "test[\"credit_score\"].fillna(df[\"credit_score\"].mean(), inplace=True)"
   ]
  },
  {
   "attachments": {
    "image.png": {
     "image/png": "[encoded data removed]"
    }
   },
   "cell_type": "markdown",
   "metadata": {},
   "source": [
    "![image.png](attachment:image.png)\n",
    "###### Probability density function(pdf) for a normal distribution\n",
    "reference : https://towardsdatascience.com/understanding-boxplots-5e2df7bcbd51"
   ]
  },
  {
   "cell_type": "code",
   "execution_count": 24,
   "metadata": {},
   "outputs": [],
   "source": [
    "# from scipy.integrate import quad\n",
    "# from sklearn.preprocessing import StandardScaler, MinMaxScaler\n",
    "\n",
    "# # import numpy as np\n",
    "# # import matplotlib.pyplot as plt\n",
    "# # %matplotlib inline\n",
    "# scaler = StandardScaler()\n",
    "# minmax = MinMaxScaler()\n",
    "\n",
    "# # x1 = df.yearly_debt_payments\n",
    "# x = np.array(df['no_of_days_employed'])\n",
    "# x = np.log(x)\n",
    "# x = scaler.fit_transform(x.reshape(-1,1))\n",
    "# # x = np.log(x)\n",
    "# # x = minmax.fit_transform(x.reshape(-1,1))\n",
    "# # x = np.log(x)\n",
    "# # x = scaler.fit_transform(x.reshape(-1,1))\n",
    "# # mu = df.no_of_days_employed.mean()\n",
    "# # sigma = df.no_of_days_employed.var()\n",
    "# constant = 1.0 / np.sqrt(2*np.pi)\n",
    "# pdf_normal_distribution = constant * np.exp ((-1*((x)**2)) / (2.0))\n",
    "# fig, ax = plt.subplots(figsize=(10, 5))\n",
    "# ax.plot(x, pdf_normal_distribution)\n",
    "# ax.set_ylim(0)\n",
    "# ax.set_title('Normal Distribution', size = 20)\n",
    "# ax.set_ylabel('Probability Density', size = 20)\n",
    "# # fig.savefig('images/normalDistributionPDF.png', dpi = 900)"
   ]
  },
  {
   "cell_type": "code",
   "execution_count": 25,
   "metadata": {},
   "outputs": [],
   "source": [
    "scaler_transform_features =[\"yearly_debt_payments\", \"credit_score\", \"credit_limit\", \"age\", \"net_yearly_income\", 'credit_limit_used(%)','credit_score', 'no_of_days_employed']\n",
    "log_transform = [\"yearly_debt_payments\", \"credit_score\", \"credit_limit\",'no_of_days_employed']"
   ]
  },
  {
   "cell_type": "code",
   "execution_count": 26,
   "metadata": {},
   "outputs": [
    {
     "data": {
      "text/html": [
       "<div>\n",
       "<style scoped>\n",
       "    .dataframe tbody tr th:only-of-type {\n",
       "        vertical-align: middle;\n",
       "    }\n",
       "\n",
       "    .dataframe tbody tr th {\n",
       "        vertical-align: top;\n",
       "    }\n",
       "\n",
       "    .dataframe thead th {\n",
       "        text-align: right;\n",
       "    }\n",
       "</style>\n",
       "<table border=\"1\" class=\"dataframe\">\n",
       "  <thead>\n",
       "    <tr style=\"text-align: right;\">\n",
       "      <th></th>\n",
       "      <th>customer_id</th>\n",
       "      <th>name</th>\n",
       "      <th>age</th>\n",
       "      <th>gender</th>\n",
       "      <th>owns_car</th>\n",
       "      <th>owns_house</th>\n",
       "      <th>no_of_children</th>\n",
       "      <th>net_yearly_income</th>\n",
       "      <th>no_of_days_employed</th>\n",
       "      <th>occupation_type</th>\n",
       "      <th>total_family_members</th>\n",
       "      <th>migrant_worker</th>\n",
       "      <th>yearly_debt_payments</th>\n",
       "      <th>credit_limit</th>\n",
       "      <th>credit_limit_used(%)</th>\n",
       "      <th>credit_score</th>\n",
       "      <th>prev_defaults</th>\n",
       "      <th>default_in_last_6months</th>\n",
       "      <th>credit_card_default</th>\n",
       "    </tr>\n",
       "  </thead>\n",
       "  <tbody>\n",
       "    <tr>\n",
       "      <th>0</th>\n",
       "      <td>CST_115179</td>\n",
       "      <td>ita Bose</td>\n",
       "      <td>46</td>\n",
       "      <td>F</td>\n",
       "      <td>N</td>\n",
       "      <td>Y</td>\n",
       "      <td>0.0</td>\n",
       "      <td>107934.04</td>\n",
       "      <td>612.0</td>\n",
       "      <td>Unknown</td>\n",
       "      <td>1.0</td>\n",
       "      <td>1.0</td>\n",
       "      <td>33070.28</td>\n",
       "      <td>18690.93</td>\n",
       "      <td>73</td>\n",
       "      <td>544.0</td>\n",
       "      <td>2</td>\n",
       "      <td>1</td>\n",
       "      <td>1</td>\n",
       "    </tr>\n",
       "    <tr>\n",
       "      <th>1</th>\n",
       "      <td>CST_121920</td>\n",
       "      <td>Alper Jonathan</td>\n",
       "      <td>29</td>\n",
       "      <td>M</td>\n",
       "      <td>N</td>\n",
       "      <td>Y</td>\n",
       "      <td>0.0</td>\n",
       "      <td>109862.62</td>\n",
       "      <td>2771.0</td>\n",
       "      <td>Laborers</td>\n",
       "      <td>2.0</td>\n",
       "      <td>0.0</td>\n",
       "      <td>15329.53</td>\n",
       "      <td>37745.19</td>\n",
       "      <td>52</td>\n",
       "      <td>857.0</td>\n",
       "      <td>0</td>\n",
       "      <td>0</td>\n",
       "      <td>0</td>\n",
       "    </tr>\n",
       "    <tr>\n",
       "      <th>2</th>\n",
       "      <td>CST_109330</td>\n",
       "      <td>Umesh Desai</td>\n",
       "      <td>37</td>\n",
       "      <td>M</td>\n",
       "      <td>N</td>\n",
       "      <td>Y</td>\n",
       "      <td>0.0</td>\n",
       "      <td>230153.17</td>\n",
       "      <td>204.0</td>\n",
       "      <td>Laborers</td>\n",
       "      <td>2.0</td>\n",
       "      <td>0.0</td>\n",
       "      <td>48416.60</td>\n",
       "      <td>41598.36</td>\n",
       "      <td>43</td>\n",
       "      <td>650.0</td>\n",
       "      <td>0</td>\n",
       "      <td>0</td>\n",
       "      <td>0</td>\n",
       "    </tr>\n",
       "    <tr>\n",
       "      <th>3</th>\n",
       "      <td>CST_128288</td>\n",
       "      <td>Rie</td>\n",
       "      <td>39</td>\n",
       "      <td>F</td>\n",
       "      <td>N</td>\n",
       "      <td>Y</td>\n",
       "      <td>0.0</td>\n",
       "      <td>122325.82</td>\n",
       "      <td>11941.0</td>\n",
       "      <td>Core staff</td>\n",
       "      <td>2.0</td>\n",
       "      <td>0.0</td>\n",
       "      <td>22574.36</td>\n",
       "      <td>32627.76</td>\n",
       "      <td>20</td>\n",
       "      <td>754.0</td>\n",
       "      <td>0</td>\n",
       "      <td>0</td>\n",
       "      <td>0</td>\n",
       "    </tr>\n",
       "    <tr>\n",
       "      <th>4</th>\n",
       "      <td>CST_151355</td>\n",
       "      <td>McCool</td>\n",
       "      <td>46</td>\n",
       "      <td>M</td>\n",
       "      <td>Y</td>\n",
       "      <td>Y</td>\n",
       "      <td>0.0</td>\n",
       "      <td>387286.00</td>\n",
       "      <td>1459.0</td>\n",
       "      <td>Core staff</td>\n",
       "      <td>1.0</td>\n",
       "      <td>0.0</td>\n",
       "      <td>38282.95</td>\n",
       "      <td>52950.64</td>\n",
       "      <td>75</td>\n",
       "      <td>927.0</td>\n",
       "      <td>0</td>\n",
       "      <td>0</td>\n",
       "      <td>0</td>\n",
       "    </tr>\n",
       "  </tbody>\n",
       "</table>\n",
       "</div>"
      ],
      "text/plain": [
       "  customer_id            name  age gender owns_car owns_house  no_of_children  \\\n",
       "0  CST_115179        ita Bose   46      F        N          Y             0.0   \n",
       "1  CST_121920  Alper Jonathan   29      M        N          Y             0.0   \n",
       "2  CST_109330     Umesh Desai   37      M        N          Y             0.0   \n",
       "3  CST_128288             Rie   39      F        N          Y             0.0   \n",
       "4  CST_151355          McCool   46      M        Y          Y             0.0   \n",
       "\n",
       "   net_yearly_income  no_of_days_employed occupation_type  \\\n",
       "0          107934.04                612.0         Unknown   \n",
       "1          109862.62               2771.0        Laborers   \n",
       "2          230153.17                204.0        Laborers   \n",
       "3          122325.82              11941.0      Core staff   \n",
       "4          387286.00               1459.0      Core staff   \n",
       "\n",
       "   total_family_members  migrant_worker  yearly_debt_payments  credit_limit  \\\n",
       "0                   1.0             1.0              33070.28      18690.93   \n",
       "1                   2.0             0.0              15329.53      37745.19   \n",
       "2                   2.0             0.0              48416.60      41598.36   \n",
       "3                   2.0             0.0              22574.36      32627.76   \n",
       "4                   1.0             0.0              38282.95      52950.64   \n",
       "\n",
       "   credit_limit_used(%)  credit_score  prev_defaults  default_in_last_6months  \\\n",
       "0                    73         544.0              2                        1   \n",
       "1                    52         857.0              0                        0   \n",
       "2                    43         650.0              0                        0   \n",
       "3                    20         754.0              0                        0   \n",
       "4                    75         927.0              0                        0   \n",
       "\n",
       "   credit_card_default  \n",
       "0                    1  \n",
       "1                    0  \n",
       "2                    0  \n",
       "3                    0  \n",
       "4                    0  "
      ]
     },
     "execution_count": 26,
     "metadata": {},
     "output_type": "execute_result"
    }
   ],
   "source": [
    "train.head()"
   ]
  },
  {
   "cell_type": "code",
   "execution_count": 27,
   "metadata": {},
   "outputs": [],
   "source": [
    "le = LabelEncoder()\n",
    "categorical = ['customer_id','name', 'gender', 'owns_car', 'owns_house', 'occupation_type']\n",
    "for i in categorical:\n",
    "    train[i] = le.fit_transform(train[i])\n",
    "    \n",
    "for i in categorical:\n",
    "    test[i] = le.fit_transform(test[i])"
   ]
  },
  {
   "cell_type": "markdown",
   "metadata": {},
   "source": [
    "#### Feature engineering"
   ]
  },
  {
   "cell_type": "code",
   "execution_count": 28,
   "metadata": {},
   "outputs": [],
   "source": [
    "scaler_transform_features =[\"yearly_debt_payments\", \"credit_score\", \"credit_limit\", \"age\", \"net_yearly_income\", 'credit_limit_used(%)','credit_score', 'no_of_days_employed']\n",
    "log_transform = [\"yearly_debt_payments\", \"credit_score\", \"credit_limit\",'no_of_days_employed']"
   ]
  },
  {
   "cell_type": "code",
   "execution_count": 29,
   "metadata": {},
   "outputs": [],
   "source": [
    "for col in log_transform:\n",
    "    train[col] = np.log(np.array(train[col]))\n",
    "    test[col] = np.log(np.array(test[col]))"
   ]
  },
  {
   "cell_type": "code",
   "execution_count": 30,
   "metadata": {},
   "outputs": [
    {
     "data": {
      "text/html": [
       "<div>\n",
       "<style scoped>\n",
       "    .dataframe tbody tr th:only-of-type {\n",
       "        vertical-align: middle;\n",
       "    }\n",
       "\n",
       "    .dataframe tbody tr th {\n",
       "        vertical-align: top;\n",
       "    }\n",
       "\n",
       "    .dataframe thead th {\n",
       "        text-align: right;\n",
       "    }\n",
       "</style>\n",
       "<table border=\"1\" class=\"dataframe\">\n",
       "  <thead>\n",
       "    <tr style=\"text-align: right;\">\n",
       "      <th></th>\n",
       "      <th>customer_id</th>\n",
       "      <th>name</th>\n",
       "      <th>age</th>\n",
       "      <th>gender</th>\n",
       "      <th>owns_car</th>\n",
       "      <th>owns_house</th>\n",
       "      <th>no_of_children</th>\n",
       "      <th>net_yearly_income</th>\n",
       "      <th>no_of_days_employed</th>\n",
       "      <th>occupation_type</th>\n",
       "      <th>total_family_members</th>\n",
       "      <th>migrant_worker</th>\n",
       "      <th>yearly_debt_payments</th>\n",
       "      <th>credit_limit</th>\n",
       "      <th>credit_limit_used(%)</th>\n",
       "      <th>credit_score</th>\n",
       "      <th>prev_defaults</th>\n",
       "      <th>default_in_last_6months</th>\n",
       "    </tr>\n",
       "  </thead>\n",
       "  <tbody>\n",
       "    <tr>\n",
       "      <th>0</th>\n",
       "      <td>7322</td>\n",
       "      <td>1992</td>\n",
       "      <td>52</td>\n",
       "      <td>0</td>\n",
       "      <td>1</td>\n",
       "      <td>0</td>\n",
       "      <td>0.0</td>\n",
       "      <td>232640.53</td>\n",
       "      <td>6.905753</td>\n",
       "      <td>17</td>\n",
       "      <td>2.0</td>\n",
       "      <td>0.0</td>\n",
       "      <td>9.575451</td>\n",
       "      <td>10.185820</td>\n",
       "      <td>4</td>\n",
       "      <td>6.658011</td>\n",
       "      <td>0</td>\n",
       "      <td>0</td>\n",
       "    </tr>\n",
       "    <tr>\n",
       "      <th>1</th>\n",
       "      <td>4982</td>\n",
       "      <td>1923</td>\n",
       "      <td>48</td>\n",
       "      <td>0</td>\n",
       "      <td>0</td>\n",
       "      <td>0</td>\n",
       "      <td>1.0</td>\n",
       "      <td>284396.79</td>\n",
       "      <td>7.198931</td>\n",
       "      <td>17</td>\n",
       "      <td>3.0</td>\n",
       "      <td>0.0</td>\n",
       "      <td>10.959192</td>\n",
       "      <td>11.141843</td>\n",
       "      <td>70</td>\n",
       "      <td>6.692084</td>\n",
       "      <td>0</td>\n",
       "      <td>0</td>\n",
       "    </tr>\n",
       "    <tr>\n",
       "      <th>2</th>\n",
       "      <td>6579</td>\n",
       "      <td>2228</td>\n",
       "      <td>50</td>\n",
       "      <td>0</td>\n",
       "      <td>0</td>\n",
       "      <td>0</td>\n",
       "      <td>1.0</td>\n",
       "      <td>149419.28</td>\n",
       "      <td>7.098376</td>\n",
       "      <td>17</td>\n",
       "      <td>3.0</td>\n",
       "      <td>0.0</td>\n",
       "      <td>9.980958</td>\n",
       "      <td>10.134115</td>\n",
       "      <td>71</td>\n",
       "      <td>6.269096</td>\n",
       "      <td>2</td>\n",
       "      <td>0</td>\n",
       "    </tr>\n",
       "    <tr>\n",
       "      <th>3</th>\n",
       "      <td>4119</td>\n",
       "      <td>1016</td>\n",
       "      <td>30</td>\n",
       "      <td>0</td>\n",
       "      <td>0</td>\n",
       "      <td>0</td>\n",
       "      <td>1.0</td>\n",
       "      <td>160437.54</td>\n",
       "      <td>6.220590</td>\n",
       "      <td>8</td>\n",
       "      <td>2.0</td>\n",
       "      <td>1.0</td>\n",
       "      <td>10.274732</td>\n",
       "      <td>10.281218</td>\n",
       "      <td>9</td>\n",
       "      <td>6.703188</td>\n",
       "      <td>0</td>\n",
       "      <td>0</td>\n",
       "    </tr>\n",
       "    <tr>\n",
       "      <th>4</th>\n",
       "      <td>7652</td>\n",
       "      <td>1384</td>\n",
       "      <td>52</td>\n",
       "      <td>1</td>\n",
       "      <td>0</td>\n",
       "      <td>1</td>\n",
       "      <td>0.0</td>\n",
       "      <td>233480.37</td>\n",
       "      <td>5.056246</td>\n",
       "      <td>8</td>\n",
       "      <td>2.0</td>\n",
       "      <td>1.0</td>\n",
       "      <td>10.900689</td>\n",
       "      <td>11.318513</td>\n",
       "      <td>82</td>\n",
       "      <td>6.418365</td>\n",
       "      <td>1</td>\n",
       "      <td>1</td>\n",
       "    </tr>\n",
       "  </tbody>\n",
       "</table>\n",
       "</div>"
      ],
      "text/plain": [
       "   customer_id  name  age  gender  owns_car  owns_house  no_of_children  \\\n",
       "0         7322  1992   52       0         1           0             0.0   \n",
       "1         4982  1923   48       0         0           0             1.0   \n",
       "2         6579  2228   50       0         0           0             1.0   \n",
       "3         4119  1016   30       0         0           0             1.0   \n",
       "4         7652  1384   52       1         0           1             0.0   \n",
       "\n",
       "   net_yearly_income  no_of_days_employed  occupation_type  \\\n",
       "0          232640.53             6.905753               17   \n",
       "1          284396.79             7.198931               17   \n",
       "2          149419.28             7.098376               17   \n",
       "3          160437.54             6.220590                8   \n",
       "4          233480.37             5.056246                8   \n",
       "\n",
       "   total_family_members  migrant_worker  yearly_debt_payments  credit_limit  \\\n",
       "0                   2.0             0.0              9.575451     10.185820   \n",
       "1                   3.0             0.0             10.959192     11.141843   \n",
       "2                   3.0             0.0              9.980958     10.134115   \n",
       "3                   2.0             1.0             10.274732     10.281218   \n",
       "4                   2.0             1.0             10.900689     11.318513   \n",
       "\n",
       "   credit_limit_used(%)  credit_score  prev_defaults  default_in_last_6months  \n",
       "0                     4      6.658011              0                        0  \n",
       "1                    70      6.692084              0                        0  \n",
       "2                    71      6.269096              2                        0  \n",
       "3                     9      6.703188              0                        0  \n",
       "4                    82      6.418365              1                        1  "
      ]
     },
     "execution_count": 30,
     "metadata": {},
     "output_type": "execute_result"
    }
   ],
   "source": [
    "test.head()"
   ]
  },
  {
   "cell_type": "code",
   "execution_count": 31,
   "metadata": {},
   "outputs": [],
   "source": [
    "scaler = StandardScaler()\n",
    "for col in scaler_transform_features:\n",
    "    train[col] = scaler.fit_transform(np.array(train[col]).reshape(-1,1))\n",
    "    test[col] = scaler.fit_transform(np.array(test[col]).reshape(-1,1))"
   ]
  },
  {
   "cell_type": "code",
   "execution_count": 32,
   "metadata": {},
   "outputs": [
    {
     "data": {
      "text/html": [
       "<div>\n",
       "<style scoped>\n",
       "    .dataframe tbody tr th:only-of-type {\n",
       "        vertical-align: middle;\n",
       "    }\n",
       "\n",
       "    .dataframe tbody tr th {\n",
       "        vertical-align: top;\n",
       "    }\n",
       "\n",
       "    .dataframe thead th {\n",
       "        text-align: right;\n",
       "    }\n",
       "</style>\n",
       "<table border=\"1\" class=\"dataframe\">\n",
       "  <thead>\n",
       "    <tr style=\"text-align: right;\">\n",
       "      <th></th>\n",
       "      <th>customer_id</th>\n",
       "      <th>name</th>\n",
       "      <th>age</th>\n",
       "      <th>gender</th>\n",
       "      <th>owns_car</th>\n",
       "      <th>owns_house</th>\n",
       "      <th>no_of_children</th>\n",
       "      <th>net_yearly_income</th>\n",
       "      <th>no_of_days_employed</th>\n",
       "      <th>occupation_type</th>\n",
       "      <th>total_family_members</th>\n",
       "      <th>migrant_worker</th>\n",
       "      <th>yearly_debt_payments</th>\n",
       "      <th>credit_limit</th>\n",
       "      <th>credit_limit_used(%)</th>\n",
       "      <th>credit_score</th>\n",
       "      <th>prev_defaults</th>\n",
       "      <th>default_in_last_6months</th>\n",
       "      <th>credit_card_default</th>\n",
       "    </tr>\n",
       "  </thead>\n",
       "  <tbody>\n",
       "    <tr>\n",
       "      <th>0</th>\n",
       "      <td>10412</td>\n",
       "      <td>3939</td>\n",
       "      <td>0.734144</td>\n",
       "      <td>0</td>\n",
       "      <td>0</td>\n",
       "      <td>1</td>\n",
       "      <td>0.0</td>\n",
       "      <td>-0.138583</td>\n",
       "      <td>-0.820187</td>\n",
       "      <td>17</td>\n",
       "      <td>1.0</td>\n",
       "      <td>1.0</td>\n",
       "      <td>0.330525</td>\n",
       "      <td>-1.083500</td>\n",
       "      <td>0.706855</td>\n",
       "      <td>-2.661120</td>\n",
       "      <td>2</td>\n",
       "      <td>1</td>\n",
       "      <td>1</td>\n",
       "    </tr>\n",
       "    <tr>\n",
       "      <th>1</th>\n",
       "      <td>14993</td>\n",
       "      <td>170</td>\n",
       "      <td>-1.047101</td>\n",
       "      <td>1</td>\n",
       "      <td>0</td>\n",
       "      <td>1</td>\n",
       "      <td>0.0</td>\n",
       "      <td>-0.135701</td>\n",
       "      <td>-0.171059</td>\n",
       "      <td>8</td>\n",
       "      <td>2.0</td>\n",
       "      <td>0.0</td>\n",
       "      <td>-1.066398</td>\n",
       "      <td>0.090878</td>\n",
       "      <td>-0.008000</td>\n",
       "      <td>0.743401</td>\n",
       "      <td>0</td>\n",
       "      <td>0</td>\n",
       "      <td>0</td>\n",
       "    </tr>\n",
       "    <tr>\n",
       "      <th>2</th>\n",
       "      <td>6404</td>\n",
       "      <td>3557</td>\n",
       "      <td>-0.208868</td>\n",
       "      <td>1</td>\n",
       "      <td>0</td>\n",
       "      <td>1</td>\n",
       "      <td>0.0</td>\n",
       "      <td>0.044088</td>\n",
       "      <td>-1.292392</td>\n",
       "      <td>8</td>\n",
       "      <td>2.0</td>\n",
       "      <td>0.0</td>\n",
       "      <td>1.023137</td>\n",
       "      <td>0.253299</td>\n",
       "      <td>-0.314367</td>\n",
       "      <td>-1.327570</td>\n",
       "      <td>0</td>\n",
       "      <td>0</td>\n",
       "      <td>0</td>\n",
       "    </tr>\n",
       "    <tr>\n",
       "      <th>3</th>\n",
       "      <td>19491</td>\n",
       "      <td>2899</td>\n",
       "      <td>0.000690</td>\n",
       "      <td>0</td>\n",
       "      <td>0</td>\n",
       "      <td>1</td>\n",
       "      <td>0.0</td>\n",
       "      <td>-0.117073</td>\n",
       "      <td>0.456809</td>\n",
       "      <td>3</td>\n",
       "      <td>2.0</td>\n",
       "      <td>0.0</td>\n",
       "      <td>-0.363200</td>\n",
       "      <td>-0.152571</td>\n",
       "      <td>-1.097303</td>\n",
       "      <td>-0.215773</td>\n",
       "      <td>0</td>\n",
       "      <td>0</td>\n",
       "      <td>0</td>\n",
       "    </tr>\n",
       "    <tr>\n",
       "      <th>4</th>\n",
       "      <td>35467</td>\n",
       "      <td>2289</td>\n",
       "      <td>0.734144</td>\n",
       "      <td>1</td>\n",
       "      <td>1</td>\n",
       "      <td>1</td>\n",
       "      <td>0.0</td>\n",
       "      <td>0.278941</td>\n",
       "      <td>-0.446770</td>\n",
       "      <td>3</td>\n",
       "      <td>1.0</td>\n",
       "      <td>0.0</td>\n",
       "      <td>0.596462</td>\n",
       "      <td>0.656498</td>\n",
       "      <td>0.774936</td>\n",
       "      <td>1.331552</td>\n",
       "      <td>0</td>\n",
       "      <td>0</td>\n",
       "      <td>0</td>\n",
       "    </tr>\n",
       "  </tbody>\n",
       "</table>\n",
       "</div>"
      ],
      "text/plain": [
       "   customer_id  name       age  gender  owns_car  owns_house  no_of_children  \\\n",
       "0        10412  3939  0.734144       0         0           1             0.0   \n",
       "1        14993   170 -1.047101       1         0           1             0.0   \n",
       "2         6404  3557 -0.208868       1         0           1             0.0   \n",
       "3        19491  2899  0.000690       0         0           1             0.0   \n",
       "4        35467  2289  0.734144       1         1           1             0.0   \n",
       "\n",
       "   net_yearly_income  no_of_days_employed  occupation_type  \\\n",
       "0          -0.138583            -0.820187               17   \n",
       "1          -0.135701            -0.171059                8   \n",
       "2           0.044088            -1.292392                8   \n",
       "3          -0.117073             0.456809                3   \n",
       "4           0.278941            -0.446770                3   \n",
       "\n",
       "   total_family_members  migrant_worker  yearly_debt_payments  credit_limit  \\\n",
       "0                   1.0             1.0              0.330525     -1.083500   \n",
       "1                   2.0             0.0             -1.066398      0.090878   \n",
       "2                   2.0             0.0              1.023137      0.253299   \n",
       "3                   2.0             0.0             -0.363200     -0.152571   \n",
       "4                   1.0             0.0              0.596462      0.656498   \n",
       "\n",
       "   credit_limit_used(%)  credit_score  prev_defaults  default_in_last_6months  \\\n",
       "0              0.706855     -2.661120              2                        1   \n",
       "1             -0.008000      0.743401              0                        0   \n",
       "2             -0.314367     -1.327570              0                        0   \n",
       "3             -1.097303     -0.215773              0                        0   \n",
       "4              0.774936      1.331552              0                        0   \n",
       "\n",
       "   credit_card_default  \n",
       "0                    1  \n",
       "1                    0  \n",
       "2                    0  \n",
       "3                    0  \n",
       "4                    0  "
      ]
     },
     "execution_count": 32,
     "metadata": {},
     "output_type": "execute_result"
    }
   ],
   "source": [
    "train.head()"
   ]
  },
  {
   "cell_type": "markdown",
   "metadata": {},
   "source": [
    "#### split into val set"
   ]
  },
  {
   "cell_type": "code",
   "execution_count": 52,
   "metadata": {},
   "outputs": [],
   "source": [
    "X = train.drop(['credit_card_default'], axis= 1)\n",
    "y = train['credit_card_default']"
   ]
  },
  {
   "cell_type": "code",
   "execution_count": 34,
   "metadata": {},
   "outputs": [],
   "source": [
    "X_train, X_val, y_train, y_val = train_test_split(X, y, test_size=0.33, random_state=42)"
   ]
  },
  {
   "cell_type": "code",
   "execution_count": 35,
   "metadata": {},
   "outputs": [],
   "source": [
    "X_train.drop(columns=['customer_id', 'name'], inplace= True)\n",
    "test.drop(columns=['customer_id', 'name'],inplace= True)"
   ]
  },
  {
   "cell_type": "code",
   "execution_count": 36,
   "metadata": {},
   "outputs": [],
   "source": [
    "X_val.drop(columns=['customer_id', 'name'], inplace= True)"
   ]
  },
  {
   "cell_type": "code",
   "execution_count": null,
   "metadata": {},
   "outputs": [],
   "source": []
  },
  {
   "cell_type": "code",
   "execution_count": null,
   "metadata": {},
   "outputs": [],
   "source": []
  },
  {
   "cell_type": "code",
   "execution_count": null,
   "metadata": {},
   "outputs": [],
   "source": []
  },
  {
   "cell_type": "code",
   "execution_count": 66,
   "metadata": {},
   "outputs": [],
   "source": [
    "X1 = X.drop(columns=['customer_id', 'name'])"
   ]
  },
  {
   "cell_type": "code",
   "execution_count": 67,
   "metadata": {},
   "outputs": [
    {
     "data": {
      "text/html": [
       "<div>\n",
       "<style scoped>\n",
       "    .dataframe tbody tr th:only-of-type {\n",
       "        vertical-align: middle;\n",
       "    }\n",
       "\n",
       "    .dataframe tbody tr th {\n",
       "        vertical-align: top;\n",
       "    }\n",
       "\n",
       "    .dataframe thead th {\n",
       "        text-align: right;\n",
       "    }\n",
       "</style>\n",
       "<table border=\"1\" class=\"dataframe\">\n",
       "  <thead>\n",
       "    <tr style=\"text-align: right;\">\n",
       "      <th></th>\n",
       "      <th>age</th>\n",
       "      <th>gender</th>\n",
       "      <th>owns_car</th>\n",
       "      <th>owns_house</th>\n",
       "      <th>no_of_children</th>\n",
       "      <th>net_yearly_income</th>\n",
       "      <th>no_of_days_employed</th>\n",
       "      <th>occupation_type</th>\n",
       "      <th>total_family_members</th>\n",
       "      <th>migrant_worker</th>\n",
       "      <th>yearly_debt_payments</th>\n",
       "      <th>credit_limit</th>\n",
       "      <th>credit_limit_used(%)</th>\n",
       "      <th>credit_score</th>\n",
       "      <th>prev_defaults</th>\n",
       "      <th>default_in_last_6months</th>\n",
       "    </tr>\n",
       "  </thead>\n",
       "  <tbody>\n",
       "    <tr>\n",
       "      <th>0</th>\n",
       "      <td>0.734144</td>\n",
       "      <td>0</td>\n",
       "      <td>0</td>\n",
       "      <td>1</td>\n",
       "      <td>0.0</td>\n",
       "      <td>-0.138583</td>\n",
       "      <td>-0.820187</td>\n",
       "      <td>17</td>\n",
       "      <td>1.0</td>\n",
       "      <td>1.0</td>\n",
       "      <td>0.330525</td>\n",
       "      <td>-1.083500</td>\n",
       "      <td>0.706855</td>\n",
       "      <td>-2.661120</td>\n",
       "      <td>2</td>\n",
       "      <td>1</td>\n",
       "    </tr>\n",
       "    <tr>\n",
       "      <th>1</th>\n",
       "      <td>-1.047101</td>\n",
       "      <td>1</td>\n",
       "      <td>0</td>\n",
       "      <td>1</td>\n",
       "      <td>0.0</td>\n",
       "      <td>-0.135701</td>\n",
       "      <td>-0.171059</td>\n",
       "      <td>8</td>\n",
       "      <td>2.0</td>\n",
       "      <td>0.0</td>\n",
       "      <td>-1.066398</td>\n",
       "      <td>0.090878</td>\n",
       "      <td>-0.008000</td>\n",
       "      <td>0.743401</td>\n",
       "      <td>0</td>\n",
       "      <td>0</td>\n",
       "    </tr>\n",
       "    <tr>\n",
       "      <th>2</th>\n",
       "      <td>-0.208868</td>\n",
       "      <td>1</td>\n",
       "      <td>0</td>\n",
       "      <td>1</td>\n",
       "      <td>0.0</td>\n",
       "      <td>0.044088</td>\n",
       "      <td>-1.292392</td>\n",
       "      <td>8</td>\n",
       "      <td>2.0</td>\n",
       "      <td>0.0</td>\n",
       "      <td>1.023137</td>\n",
       "      <td>0.253299</td>\n",
       "      <td>-0.314367</td>\n",
       "      <td>-1.327570</td>\n",
       "      <td>0</td>\n",
       "      <td>0</td>\n",
       "    </tr>\n",
       "    <tr>\n",
       "      <th>3</th>\n",
       "      <td>0.000690</td>\n",
       "      <td>0</td>\n",
       "      <td>0</td>\n",
       "      <td>1</td>\n",
       "      <td>0.0</td>\n",
       "      <td>-0.117073</td>\n",
       "      <td>0.456809</td>\n",
       "      <td>3</td>\n",
       "      <td>2.0</td>\n",
       "      <td>0.0</td>\n",
       "      <td>-0.363200</td>\n",
       "      <td>-0.152571</td>\n",
       "      <td>-1.097303</td>\n",
       "      <td>-0.215773</td>\n",
       "      <td>0</td>\n",
       "      <td>0</td>\n",
       "    </tr>\n",
       "    <tr>\n",
       "      <th>4</th>\n",
       "      <td>0.734144</td>\n",
       "      <td>1</td>\n",
       "      <td>1</td>\n",
       "      <td>1</td>\n",
       "      <td>0.0</td>\n",
       "      <td>0.278941</td>\n",
       "      <td>-0.446770</td>\n",
       "      <td>3</td>\n",
       "      <td>1.0</td>\n",
       "      <td>0.0</td>\n",
       "      <td>0.596462</td>\n",
       "      <td>0.656498</td>\n",
       "      <td>0.774936</td>\n",
       "      <td>1.331552</td>\n",
       "      <td>0</td>\n",
       "      <td>0</td>\n",
       "    </tr>\n",
       "    <tr>\n",
       "      <th>...</th>\n",
       "      <td>...</td>\n",
       "      <td>...</td>\n",
       "      <td>...</td>\n",
       "      <td>...</td>\n",
       "      <td>...</td>\n",
       "      <td>...</td>\n",
       "      <td>...</td>\n",
       "      <td>...</td>\n",
       "      <td>...</td>\n",
       "      <td>...</td>\n",
       "      <td>...</td>\n",
       "      <td>...</td>\n",
       "      <td>...</td>\n",
       "      <td>...</td>\n",
       "      <td>...</td>\n",
       "      <td>...</td>\n",
       "    </tr>\n",
       "    <tr>\n",
       "      <th>45523</th>\n",
       "      <td>1.677156</td>\n",
       "      <td>0</td>\n",
       "      <td>0</td>\n",
       "      <td>0</td>\n",
       "      <td>2.0</td>\n",
       "      <td>-0.156110</td>\n",
       "      <td>-1.531349</td>\n",
       "      <td>17</td>\n",
       "      <td>4.0</td>\n",
       "      <td>0.0</td>\n",
       "      <td>-1.631874</td>\n",
       "      <td>-0.311704</td>\n",
       "      <td>1.013221</td>\n",
       "      <td>1.168167</td>\n",
       "      <td>0</td>\n",
       "      <td>0</td>\n",
       "    </tr>\n",
       "    <tr>\n",
       "      <th>45524</th>\n",
       "      <td>-0.837543</td>\n",
       "      <td>0</td>\n",
       "      <td>0</td>\n",
       "      <td>1</td>\n",
       "      <td>0.0</td>\n",
       "      <td>0.273248</td>\n",
       "      <td>-0.624003</td>\n",
       "      <td>0</td>\n",
       "      <td>2.0</td>\n",
       "      <td>1.0</td>\n",
       "      <td>0.823139</td>\n",
       "      <td>2.280504</td>\n",
       "      <td>-0.688815</td>\n",
       "      <td>-1.000602</td>\n",
       "      <td>0</td>\n",
       "      <td>0</td>\n",
       "    </tr>\n",
       "    <tr>\n",
       "      <th>45525</th>\n",
       "      <td>-1.256659</td>\n",
       "      <td>0</td>\n",
       "      <td>0</td>\n",
       "      <td>1</td>\n",
       "      <td>0.0</td>\n",
       "      <td>0.088775</td>\n",
       "      <td>-0.458416</td>\n",
       "      <td>3</td>\n",
       "      <td>2.0</td>\n",
       "      <td>0.0</td>\n",
       "      <td>-0.352515</td>\n",
       "      <td>1.426810</td>\n",
       "      <td>-0.212245</td>\n",
       "      <td>-0.488935</td>\n",
       "      <td>0</td>\n",
       "      <td>0</td>\n",
       "    </tr>\n",
       "    <tr>\n",
       "      <th>45526</th>\n",
       "      <td>-0.732763</td>\n",
       "      <td>1</td>\n",
       "      <td>1</td>\n",
       "      <td>0</td>\n",
       "      <td>0.0</td>\n",
       "      <td>-0.064706</td>\n",
       "      <td>-0.222752</td>\n",
       "      <td>8</td>\n",
       "      <td>2.0</td>\n",
       "      <td>0.0</td>\n",
       "      <td>-0.569609</td>\n",
       "      <td>-0.561900</td>\n",
       "      <td>1.353628</td>\n",
       "      <td>0.274504</td>\n",
       "      <td>0</td>\n",
       "      <td>0</td>\n",
       "    </tr>\n",
       "    <tr>\n",
       "      <th>45527</th>\n",
       "      <td>-0.104089</td>\n",
       "      <td>1</td>\n",
       "      <td>0</td>\n",
       "      <td>1</td>\n",
       "      <td>1.0</td>\n",
       "      <td>0.173736</td>\n",
       "      <td>-0.527203</td>\n",
       "      <td>17</td>\n",
       "      <td>3.0</td>\n",
       "      <td>0.0</td>\n",
       "      <td>0.412881</td>\n",
       "      <td>0.040800</td>\n",
       "      <td>-0.893059</td>\n",
       "      <td>-0.967579</td>\n",
       "      <td>0</td>\n",
       "      <td>0</td>\n",
       "    </tr>\n",
       "  </tbody>\n",
       "</table>\n",
       "<p>45528 rows × 16 columns</p>\n",
       "</div>"
      ],
      "text/plain": [
       "            age  gender  owns_car  owns_house  no_of_children  \\\n",
       "0      0.734144       0         0           1             0.0   \n",
       "1     -1.047101       1         0           1             0.0   \n",
       "2     -0.208868       1         0           1             0.0   \n",
       "3      0.000690       0         0           1             0.0   \n",
       "4      0.734144       1         1           1             0.0   \n",
       "...         ...     ...       ...         ...             ...   \n",
       "45523  1.677156       0         0           0             2.0   \n",
       "45524 -0.837543       0         0           1             0.0   \n",
       "45525 -1.256659       0         0           1             0.0   \n",
       "45526 -0.732763       1         1           0             0.0   \n",
       "45527 -0.104089       1         0           1             1.0   \n",
       "\n",
       "       net_yearly_income  no_of_days_employed  occupation_type  \\\n",
       "0              -0.138583            -0.820187               17   \n",
       "1              -0.135701            -0.171059                8   \n",
       "2               0.044088            -1.292392                8   \n",
       "3              -0.117073             0.456809                3   \n",
       "4               0.278941            -0.446770                3   \n",
       "...                  ...                  ...              ...   \n",
       "45523          -0.156110            -1.531349               17   \n",
       "45524           0.273248            -0.624003                0   \n",
       "45525           0.088775            -0.458416                3   \n",
       "45526          -0.064706            -0.222752                8   \n",
       "45527           0.173736            -0.527203               17   \n",
       "\n",
       "       total_family_members  migrant_worker  yearly_debt_payments  \\\n",
       "0                       1.0             1.0              0.330525   \n",
       "1                       2.0             0.0             -1.066398   \n",
       "2                       2.0             0.0              1.023137   \n",
       "3                       2.0             0.0             -0.363200   \n",
       "4                       1.0             0.0              0.596462   \n",
       "...                     ...             ...                   ...   \n",
       "45523                   4.0             0.0             -1.631874   \n",
       "45524                   2.0             1.0              0.823139   \n",
       "45525                   2.0             0.0             -0.352515   \n",
       "45526                   2.0             0.0             -0.569609   \n",
       "45527                   3.0             0.0              0.412881   \n",
       "\n",
       "       credit_limit  credit_limit_used(%)  credit_score  prev_defaults  \\\n",
       "0         -1.083500              0.706855     -2.661120              2   \n",
       "1          0.090878             -0.008000      0.743401              0   \n",
       "2          0.253299             -0.314367     -1.327570              0   \n",
       "3         -0.152571             -1.097303     -0.215773              0   \n",
       "4          0.656498              0.774936      1.331552              0   \n",
       "...             ...                   ...           ...            ...   \n",
       "45523     -0.311704              1.013221      1.168167              0   \n",
       "45524      2.280504             -0.688815     -1.000602              0   \n",
       "45525      1.426810             -0.212245     -0.488935              0   \n",
       "45526     -0.561900              1.353628      0.274504              0   \n",
       "45527      0.040800             -0.893059     -0.967579              0   \n",
       "\n",
       "       default_in_last_6months  \n",
       "0                            1  \n",
       "1                            0  \n",
       "2                            0  \n",
       "3                            0  \n",
       "4                            0  \n",
       "...                        ...  \n",
       "45523                        0  \n",
       "45524                        0  \n",
       "45525                        0  \n",
       "45526                        0  \n",
       "45527                        0  \n",
       "\n",
       "[45528 rows x 16 columns]"
      ]
     },
     "execution_count": 67,
     "metadata": {},
     "output_type": "execute_result"
    }
   ],
   "source": [
    "X1"
   ]
  },
  {
   "cell_type": "code",
   "execution_count": 68,
   "metadata": {},
   "outputs": [],
   "source": [
    "from imblearn.under_sampling import RandomUnderSampler"
   ]
  },
  {
   "cell_type": "code",
   "execution_count": 76,
   "metadata": {},
   "outputs": [],
   "source": [
    "from imblearn.over_sampling import SMOTENC\n",
    "smotenc = SMOTENC([1,2,3,4,7,8,9,14,15])\n",
    "under = RandomUnderSampler(sampling_strategy=0.3)\n",
    "\n",
    "X_oversample, y_oversample = under.fit_resample(X1, y)\n",
    "X_oversample, y_oversample = smotenc.fit_resample(X_oversample, y_oversample)"
   ]
  },
  {
   "cell_type": "code",
   "execution_count": 77,
   "metadata": {},
   "outputs": [
    {
     "data": {
      "text/plain": [
       "<AxesSubplot:xlabel='credit_card_default', ylabel='count'>"
      ]
     },
     "execution_count": 77,
     "metadata": {},
     "output_type": "execute_result"
    },
    {
     "data": {
      "image/png": "[encoded data removed]",
      "text/plain": [
       "<Figure size 432x288 with 1 Axes>"
      ]
     },
     "metadata": {
      "needs_background": "light"
     },
     "output_type": "display_data"
    }
   ],
   "source": [
    "sns.countplot(y_oversample)"
   ]
  },
  {
   "cell_type": "code",
   "execution_count": 78,
   "metadata": {},
   "outputs": [],
   "source": [
    "# from imblearn.over_sampling import SMOTE\n",
    "# over = SMOTE(sampling_strategy=0.2)\n",
    "# X_oversample1, y_oversample1 = over.fit_resample(X_oversample, y_oversample)"
   ]
  },
  {
   "cell_type": "code",
   "execution_count": 72,
   "metadata": {},
   "outputs": [
    {
     "data": {
      "text/plain": [
       "<AxesSubplot:xlabel='credit_card_default', ylabel='count'>"
      ]
     },
     "execution_count": 72,
     "metadata": {},
     "output_type": "execute_result"
    },
    {
     "data": {
      "image/png": "[encoded data removed]",
      "text/plain": [
       "<Figure size 432x288 with 1 Axes>"
      ]
     },
     "metadata": {
      "needs_background": "light"
     },
     "output_type": "display_data"
    }
   ],
   "source": [
    "sns.countplot(y_oversample)"
   ]
  },
  {
   "cell_type": "code",
   "execution_count": 79,
   "metadata": {},
   "outputs": [],
   "source": [
    "X_train, X_test, y_train, y_test = train_test_split(X_oversample, y_oversample, test_size=0.2, random_state=42)"
   ]
  },
  {
   "cell_type": "code",
   "execution_count": 80,
   "metadata": {},
   "outputs": [
    {
     "data": {
      "text/plain": [
       "0.9743589743589743"
      ]
     },
     "execution_count": 80,
     "metadata": {},
     "output_type": "execute_result"
    }
   ],
   "source": [
    "model = RandomForestClassifier(class_weight='balanced')\n",
    "model.fit(X_train,y_train)\n",
    "y_pred = model.predict(X_test)\n",
    "f1_score(y_test, y_pred)"
   ]
  },
  {
   "cell_type": "code",
   "execution_count": 81,
   "metadata": {},
   "outputs": [
    {
     "data": {
      "text/plain": [
       "RandomForestClassifier(class_weight='balanced')"
      ]
     },
     "execution_count": 81,
     "metadata": {},
     "output_type": "execute_result"
    }
   ],
   "source": [
    "model = RandomForestClassifier(class_weight='balanced')\n",
    "# X_copy = X_copy[selected_features]\n",
    "# X_copy = scaler.fit_transform(X_copy)\n",
    "model.fit(X_oversample, y_oversample)"
   ]
  },
  {
   "cell_type": "code",
   "execution_count": 82,
   "metadata": {},
   "outputs": [
    {
     "data": {
      "text/plain": [
       "Index(['age', 'gender', 'owns_car', 'owns_house', 'no_of_children',\n",
       "       'net_yearly_income', 'no_of_days_employed', 'occupation_type',\n",
       "       'total_family_members', 'migrant_worker', 'yearly_debt_payments',\n",
       "       'credit_limit', 'credit_limit_used(%)', 'credit_score', 'prev_defaults',\n",
       "       'default_in_last_6months'],\n",
       "      dtype='object')"
      ]
     },
     "execution_count": 82,
     "metadata": {},
     "output_type": "execute_result"
    }
   ],
   "source": [
    "test.columns"
   ]
  },
  {
   "cell_type": "code",
   "execution_count": 83,
   "metadata": {},
   "outputs": [],
   "source": [
    "test_2 = pd.read_csv('test.csv')\n",
    "customer_id = np.array(test_2.customer_id)"
   ]
  },
  {
   "cell_type": "code",
   "execution_count": 84,
   "metadata": {},
   "outputs": [
    {
     "name": "stdout",
     "output_type": "stream",
     "text": [
      "(11383, 2)\n"
     ]
    }
   ],
   "source": [
    "final_predictions = model.predict(test)\n",
    "\n",
    "\n",
    "rf_submission_smote_undersample = pd.DataFrame({'customer_id': customer_id,\n",
    "                               'credit_card_default':  final_predictions})\n",
    "print(rf_submission_smote_undersample.shape)\n",
    "rf_submission_smote_undersample.to_csv('rf_submission_smote_undersample4.csv', index=False)"
   ]
  },
  {
   "cell_type": "code",
   "execution_count": null,
   "metadata": {},
   "outputs": [],
   "source": []
  },
  {
   "cell_type": "code",
   "execution_count": null,
   "metadata": {},
   "outputs": [],
   "source": []
  },
  {
   "cell_type": "code",
   "execution_count": null,
   "metadata": {},
   "outputs": [],
   "source": []
  },
  {
   "cell_type": "code",
   "execution_count": null,
   "metadata": {},
   "outputs": [],
   "source": []
  },
  {
   "cell_type": "code",
   "execution_count": null,
   "metadata": {},
   "outputs": [],
   "source": []
  },
  {
   "cell_type": "markdown",
   "metadata": {},
   "source": [
    "### Random forest tuning"
   ]
  },
  {
   "cell_type": "code",
   "execution_count": 52,
   "metadata": {},
   "outputs": [],
   "source": [
    "from numpy import mean\n",
    "from sklearn.model_selection import cross_val_score\n",
    "from sklearn.model_selection import RepeatedStratifiedKFold\n",
    "from sklearn.ensemble import RandomForestClassifier\n",
    "from imblearn.ensemble import BalancedRandomForestClassifier"
   ]
  },
  {
   "cell_type": "code",
   "execution_count": 61,
   "metadata": {},
   "outputs": [],
   "source": [
    "# model = RandomForestClassifier(n_estimators=10, class_weight='balanced')\n",
    "\n",
    "model_rf_2 = RandomForestClassifier(n_estimators=10, class_weight='balanced_subsample')\n",
    "\n",
    "# model2 = BalancedRandomForestClassifier(n_estimators=10)\n",
    "\n",
    "cv = RepeatedStratifiedKFold(n_splits=10, n_repeats=3, random_state=1)"
   ]
  },
  {
   "cell_type": "code",
   "execution_count": 62,
   "metadata": {},
   "outputs": [],
   "source": [
    "scores = cross_val_score(model_rf_2, X_train, y_train, scoring='f1', cv=cv, n_jobs=-1)"
   ]
  },
  {
   "cell_type": "code",
   "execution_count": 63,
   "metadata": {},
   "outputs": [
    {
     "name": "stdout",
     "output_type": "stream",
     "text": [
      "Mean F1: 0.852\n"
     ]
    },
    {
     "data": {
      "text/plain": [
       "RandomForestClassifier(class_weight='balanced_subsample', n_estimators=10)"
      ]
     },
     "execution_count": 63,
     "metadata": {},
     "output_type": "execute_result"
    }
   ],
   "source": [
    "print('Mean F1: %.3f' % mean(scores))\n",
    "model_rf_2.fit(X_train, y_train)"
   ]
  },
  {
   "cell_type": "code",
   "execution_count": 64,
   "metadata": {},
   "outputs": [
    {
     "name": "stdout",
     "output_type": "stream",
     "text": [
      "(11383, 2)\n"
     ]
    }
   ],
   "source": [
    "final_predictions = model_rf_2.predict(test)\n",
    "test_2 = pd.read_csv('test.csv')\n",
    "\n",
    "customer_id = np.array(test_2.customer_id)\n",
    "\n",
    "rf_tuned = pd.DataFrame({'customer_id': customer_id,\n",
    "                               'credit_card_default':  final_predictions})\n",
    "\n",
    "rf_tuned.to_csv('rf_tuned_2.csv', index=False)\n",
    "print(rf_tuned.shape)"
   ]
  },
  {
   "cell_type": "code",
   "execution_count": null,
   "metadata": {},
   "outputs": [],
   "source": []
  },
  {
   "cell_type": "code",
   "execution_count": null,
   "metadata": {},
   "outputs": [],
   "source": []
  },
  {
   "cell_type": "code",
   "execution_count": null,
   "metadata": {},
   "outputs": [],
   "source": []
  },
  {
   "cell_type": "code",
   "execution_count": null,
   "metadata": {},
   "outputs": [],
   "source": []
  },
  {
   "cell_type": "code",
   "execution_count": null,
   "metadata": {},
   "outputs": [],
   "source": []
  },
  {
   "cell_type": "code",
   "execution_count": null,
   "metadata": {},
   "outputs": [],
   "source": []
  },
  {
   "cell_type": "code",
   "execution_count": null,
   "metadata": {},
   "outputs": [],
   "source": []
  },
  {
   "cell_type": "code",
   "execution_count": null,
   "metadata": {},
   "outputs": [],
   "source": []
  },
  {
   "cell_type": "markdown",
   "metadata": {},
   "source": [
    "#### with SMOTE Analysis"
   ]
  },
  {
   "cell_type": "code",
   "execution_count": 37,
   "metadata": {},
   "outputs": [],
   "source": [
    "from imblearn.pipeline import Pipeline\n",
    "from imblearn.over_sampling import SMOTE"
   ]
  },
  {
   "cell_type": "code",
   "execution_count": 38,
   "metadata": {},
   "outputs": [],
   "source": [
    "from sklearn.model_selection import cross_val_score\n",
    "from sklearn.model_selection import RepeatedStratifiedKFold"
   ]
  },
  {
   "cell_type": "code",
   "execution_count": 39,
   "metadata": {},
   "outputs": [],
   "source": [
    "steps = [('over', SMOTE()), ('model', RandomForestClassifier())]\n",
    "pipeline = Pipeline(steps=steps)"
   ]
  },
  {
   "cell_type": "code",
   "execution_count": 40,
   "metadata": {},
   "outputs": [],
   "source": [
    "cv = RepeatedStratifiedKFold(n_splits=10, n_repeats=3, random_state=1)\n",
    "scores = cross_val_score(pipeline, X_train, y_train, scoring='f1', cv=cv, n_jobs=-1)"
   ]
  },
  {
   "cell_type": "code",
   "execution_count": 41,
   "metadata": {},
   "outputs": [
    {
     "name": "stdout",
     "output_type": "stream",
     "text": [
      "Mean F1: 0.818\n"
     ]
    }
   ],
   "source": [
    "print('Mean F1: %.3f' % np.mean(scores))"
   ]
  },
  {
   "cell_type": "markdown",
   "metadata": {},
   "source": [
    "#### under and over sampling"
   ]
  },
  {
   "cell_type": "code",
   "execution_count": 43,
   "metadata": {},
   "outputs": [],
   "source": [
    "from imblearn.under_sampling import RandomUnderSampler"
   ]
  },
  {
   "cell_type": "code",
   "execution_count": 44,
   "metadata": {},
   "outputs": [],
   "source": [
    "model = RandomForestClassifier()\n",
    "over = SMOTE(sampling_strategy=0.1)\n",
    "under = RandomUnderSampler(sampling_strategy=0.5)\n",
    "steps = [('over', over), ('under', under), ('model', model)]\n",
    "pipeline = Pipeline(steps=steps)"
   ]
  },
  {
   "cell_type": "code",
   "execution_count": 45,
   "metadata": {},
   "outputs": [
    {
     "name": "stdout",
     "output_type": "stream",
     "text": [
      "Mean F1: 0.793\n"
     ]
    }
   ],
   "source": [
    "cv = RepeatedStratifiedKFold(n_splits=10, n_repeats=3, random_state=1)\n",
    "scores = cross_val_score(pipeline, X_train, y_train, scoring='f1', cv=cv, n_jobs=-1)\n",
    "print('Mean F1: %.3f' % np.mean(scores))"
   ]
  },
  {
   "cell_type": "markdown",
   "metadata": {},
   "source": [
    "#### with k trails"
   ]
  },
  {
   "cell_type": "code",
   "execution_count": 47,
   "metadata": {},
   "outputs": [
    {
     "name": "stdout",
     "output_type": "stream",
     "text": [
      "k  1 Mean F1: 0.795\n",
      "k  2 Mean F1: 0.793\n",
      "k  3 Mean F1: 0.795\n",
      "k  4 Mean F1: 0.792\n",
      "k  5 Mean F1: 0.793\n",
      "k  6 Mean F1: 0.794\n",
      "k  7 Mean F1: 0.793\n"
     ]
    }
   ],
   "source": [
    "k_values = [1, 2, 3, 4, 5, 6, 7]\n",
    "for k in k_values:\n",
    "    model = RandomForestClassifier()\n",
    "    over = SMOTE(sampling_strategy=0.1, k_neighbors=k)\n",
    "    under = RandomUnderSampler(sampling_strategy=0.5)\n",
    "    steps = [('over', over), ('under', under), ('model', model)]\n",
    "    pipeline = Pipeline(steps=steps)\n",
    "    cv = RepeatedStratifiedKFold(n_splits=10, n_repeats=3, random_state=1)\n",
    "    scores = cross_val_score(pipeline, X_train, y_train, scoring='f1', cv=cv, n_jobs=-1)\n",
    "    print(\"k \", k , 'Mean F1: %.3f' % np.mean(scores))"
   ]
  },
  {
   "cell_type": "code",
   "execution_count": null,
   "metadata": {},
   "outputs": [],
   "source": []
  },
  {
   "cell_type": "code",
   "execution_count": null,
   "metadata": {},
   "outputs": [],
   "source": []
  },
  {
   "cell_type": "code",
   "execution_count": null,
   "metadata": {},
   "outputs": [],
   "source": []
  },
  {
   "cell_type": "code",
   "execution_count": null,
   "metadata": {},
   "outputs": [],
   "source": []
  },
  {
   "cell_type": "code",
   "execution_count": null,
   "metadata": {},
   "outputs": [],
   "source": []
  },
  {
   "cell_type": "code",
   "execution_count": null,
   "metadata": {},
   "outputs": [],
   "source": []
  },
  {
   "cell_type": "code",
   "execution_count": null,
   "metadata": {},
   "outputs": [],
   "source": []
  },
  {
   "cell_type": "code",
   "execution_count": 43,
   "metadata": {},
   "outputs": [
    {
     "name": "stderr",
     "output_type": "stream",
     "text": [
      "\u001b[32m[I 2021-12-14 16:35:00,261]\u001b[0m A new study created in memory with name: no-name-5b9ba071-b65f-412c-b1ac-c60afc0876c9\u001b[0m\n",
      "\u001b[32m[I 2021-12-14 16:35:02,617]\u001b[0m Trial 0 finished with value: 0.0 and parameters: {'classifier': 'LogReg', 'logreg_c': 1.1880678208815457e-05}. Best is trial 0 with value: 0.0.\u001b[0m\n",
      "\u001b[32m[I 2021-12-14 16:35:04,887]\u001b[0m Trial 1 finished with value: 0.8538631355949592 and parameters: {'classifier': 'LogReg', 'logreg_c': 117.54913765701288}. Best is trial 1 with value: 0.8538631355949592.\u001b[0m\n",
      "\u001b[32m[I 2021-12-14 16:35:05,910]\u001b[0m Trial 2 finished with value: 0.0 and parameters: {'classifier': 'LogReg', 'logreg_c': 2.7610603281475595e-05}. Best is trial 1 with value: 0.8538631355949592.\u001b[0m\n",
      "\u001b[32m[I 2021-12-14 16:35:10,878]\u001b[0m Trial 3 finished with value: 0.7755337924716971 and parameters: {'classifier': 'RandomForest', 'rf_n_estimators': 344, 'rf_max_depth': 8}. Best is trial 1 with value: 0.8538631355949592.\u001b[0m\n",
      "\u001b[32m[I 2021-12-14 16:35:11,517]\u001b[0m Trial 4 finished with value: 0.8542393672882819 and parameters: {'classifier': 'LogReg', 'logreg_c': 65366480.0058201}. Best is trial 4 with value: 0.8542393672882819.\u001b[0m\n",
      "\u001b[32m[I 2021-12-14 16:35:13,747]\u001b[0m Trial 5 finished with value: 0.7734843069890595 and parameters: {'classifier': 'RandomForest', 'rf_n_estimators': 202, 'rf_max_depth': 3}. Best is trial 4 with value: 0.8542393672882819.\u001b[0m\n",
      "\u001b[32m[I 2021-12-14 16:35:14,310]\u001b[0m Trial 6 finished with value: 0.8541200086753505 and parameters: {'classifier': 'LogReg', 'logreg_c': 3345.080744497153}. Best is trial 4 with value: 0.8542393672882819.\u001b[0m\n",
      "\u001b[32m[I 2021-12-14 16:35:14,815]\u001b[0m Trial 7 finished with value: 0.8543742705917087 and parameters: {'classifier': 'LogReg', 'logreg_c': 80537.78665804635}. Best is trial 7 with value: 0.8543742705917087.\u001b[0m\n",
      "\u001b[32m[I 2021-12-14 16:35:23,648]\u001b[0m Trial 8 finished with value: 0.8083913250598708 and parameters: {'classifier': 'RandomForest', 'rf_n_estimators': 601, 'rf_max_depth': 13}. Best is trial 7 with value: 0.8543742705917087.\u001b[0m\n",
      "\u001b[32m[I 2021-12-14 16:35:23,950]\u001b[0m Trial 9 finished with value: 0.859301714355488 and parameters: {'classifier': 'LogReg', 'logreg_c': 0.016612539540817317}. Best is trial 9 with value: 0.859301714355488.\u001b[0m\n",
      "\u001b[32m[I 2021-12-14 16:35:39,160]\u001b[0m Trial 10 finished with value: 0.8562297120097343 and parameters: {'classifier': 'RandomForest', 'rf_n_estimators': 958, 'rf_max_depth': 29}. Best is trial 9 with value: 0.859301714355488.\u001b[0m\n",
      "\u001b[32m[I 2021-12-14 16:35:55,661]\u001b[0m Trial 11 finished with value: 0.8564891127343098 and parameters: {'classifier': 'RandomForest', 'rf_n_estimators': 985, 'rf_max_depth': 29}. Best is trial 9 with value: 0.859301714355488.\u001b[0m\n",
      "\u001b[32m[I 2021-12-14 16:36:14,049]\u001b[0m Trial 12 finished with value: 0.8566312091089596 and parameters: {'classifier': 'RandomForest', 'rf_n_estimators': 940, 'rf_max_depth': 32}. Best is trial 9 with value: 0.859301714355488.\u001b[0m\n",
      "\u001b[32m[I 2021-12-14 16:36:21,092]\u001b[0m Trial 13 finished with value: 0.7734843069890595 and parameters: {'classifier': 'RandomForest', 'rf_n_estimators': 710, 'rf_max_depth': 2}. Best is trial 9 with value: 0.859301714355488.\u001b[0m\n",
      "\u001b[32m[I 2021-12-14 16:36:22,016]\u001b[0m Trial 14 finished with value: 0.8039008604821246 and parameters: {'classifier': 'RandomForest', 'rf_n_estimators': 51, 'rf_max_depth': 12}. Best is trial 9 with value: 0.859301714355488.\u001b[0m\n",
      "\u001b[32m[I 2021-12-14 16:36:22,256]\u001b[0m Trial 15 finished with value: 0.0 and parameters: {'classifier': 'LogReg', 'logreg_c': 2.9681976003980523e-09}. Best is trial 9 with value: 0.859301714355488.\u001b[0m\n",
      "\u001b[32m[I 2021-12-14 16:36:22,545]\u001b[0m Trial 16 finished with value: 0.8330460977035586 and parameters: {'classifier': 'LogReg', 'logreg_c': 0.0018962731886652687}. Best is trial 9 with value: 0.859301714355488.\u001b[0m\n",
      "\u001b[32m[I 2021-12-14 16:36:33,471]\u001b[0m Trial 17 finished with value: 0.7734843069890595 and parameters: {'classifier': 'RandomForest', 'rf_n_estimators': 741, 'rf_max_depth': 4}. Best is trial 9 with value: 0.859301714355488.\u001b[0m\n",
      "\u001b[32m[I 2021-12-14 16:36:33,926]\u001b[0m Trial 18 finished with value: 0.8583078925329998 and parameters: {'classifier': 'LogReg', 'logreg_c': 0.1959243472846083}. Best is trial 9 with value: 0.859301714355488.\u001b[0m\n",
      "\u001b[32m[I 2021-12-14 16:36:34,292]\u001b[0m Trial 19 finished with value: 0.8586311687029228 and parameters: {'classifier': 'LogReg', 'logreg_c': 0.1897481656608433}. Best is trial 9 with value: 0.859301714355488.\u001b[0m\n",
      "\u001b[32m[I 2021-12-14 16:36:34,645]\u001b[0m Trial 20 finished with value: 0.8549758298123523 and parameters: {'classifier': 'LogReg', 'logreg_c': 0.6519127473335129}. Best is trial 9 with value: 0.859301714355488.\u001b[0m\n",
      "\u001b[32m[I 2021-12-14 16:36:35,022]\u001b[0m Trial 21 finished with value: 0.854841103306344 and parameters: {'classifier': 'LogReg', 'logreg_c': 0.53153265112059}. Best is trial 9 with value: 0.859301714355488.\u001b[0m\n",
      "\u001b[32m[I 2021-12-14 16:36:35,329]\u001b[0m Trial 22 finished with value: 0.8588993159163039 and parameters: {'classifier': 'LogReg', 'logreg_c': 0.009297112076601355}. Best is trial 9 with value: 0.859301714355488.\u001b[0m\n",
      "\u001b[32m[I 2021-12-14 16:36:35,571]\u001b[0m Trial 23 finished with value: 0.15688663880778678 and parameters: {'classifier': 'LogReg', 'logreg_c': 0.00036762040407634073}. Best is trial 9 with value: 0.859301714355488.\u001b[0m\n",
      "\u001b[32m[I 2021-12-14 16:36:35,803]\u001b[0m Trial 24 finished with value: 0.0 and parameters: {'classifier': 'LogReg', 'logreg_c': 2.6646055208641373e-07}. Best is trial 9 with value: 0.859301714355488.\u001b[0m\n",
      "\u001b[32m[I 2021-12-14 16:36:36,073]\u001b[0m Trial 25 finished with value: 0.8583658617441238 and parameters: {'classifier': 'LogReg', 'logreg_c': 0.00608012659044144}. Best is trial 9 with value: 0.859301714355488.\u001b[0m\n",
      "\u001b[32m[I 2021-12-14 16:36:36,429]\u001b[0m Trial 26 finished with value: 0.8540536452684334 and parameters: {'classifier': 'LogReg', 'logreg_c': 128.25697268384417}. Best is trial 9 with value: 0.859301714355488.\u001b[0m\n",
      "\u001b[32m[I 2021-12-14 16:36:36,825]\u001b[0m Trial 27 finished with value: 0.854308404356002 and parameters: {'classifier': 'LogReg', 'logreg_c': 25.579519492516845}. Best is trial 9 with value: 0.859301714355488.\u001b[0m\n",
      "\u001b[32m[I 2021-12-14 16:36:37,045]\u001b[0m Trial 28 finished with value: 0.0 and parameters: {'classifier': 'LogReg', 'logreg_c': 8.867108443217874e-08}. Best is trial 9 with value: 0.859301714355488.\u001b[0m\n",
      "\u001b[32m[I 2021-12-14 16:36:37,379]\u001b[0m Trial 29 finished with value: 0.8591718711287945 and parameters: {'classifier': 'LogReg', 'logreg_c': 0.021172561105880686}. Best is trial 9 with value: 0.859301714355488.\u001b[0m\n",
      "\u001b[32m[I 2021-12-14 16:36:37,657]\u001b[0m Trial 30 finished with value: 0.8530374921869339 and parameters: {'classifier': 'LogReg', 'logreg_c': 0.003115903752199721}. Best is trial 9 with value: 0.859301714355488.\u001b[0m\n",
      "\u001b[32m[I 2021-12-14 16:36:37,997]\u001b[0m Trial 31 finished with value: 0.860237185141625 and parameters: {'classifier': 'LogReg', 'logreg_c': 0.03346841045787119}. Best is trial 31 with value: 0.860237185141625.\u001b[0m\n",
      "\u001b[32m[I 2021-12-14 16:36:38,238]\u001b[0m Trial 32 finished with value: 0.0 and parameters: {'classifier': 'LogReg', 'logreg_c': 1.4077626561390933e-05}. Best is trial 31 with value: 0.860237185141625.\u001b[0m\n",
      "\u001b[32m[I 2021-12-14 16:36:38,625]\u001b[0m Trial 33 finished with value: 0.8588993159163039 and parameters: {'classifier': 'LogReg', 'logreg_c': 0.011529643051038006}. Best is trial 31 with value: 0.860237185141625.\u001b[0m\n",
      "\u001b[32m[I 2021-12-14 16:36:38,976]\u001b[0m Trial 34 finished with value: 0.8540536452684334 and parameters: {'classifier': 'LogReg', 'logreg_c': 11.381279720293024}. Best is trial 31 with value: 0.860237185141625.\u001b[0m\n",
      "\u001b[32m[I 2021-12-14 16:36:39,258]\u001b[0m Trial 35 finished with value: 0.00489697061318615 and parameters: {'classifier': 'LogReg', 'logreg_c': 0.00025901505180635}. Best is trial 31 with value: 0.860237185141625.\u001b[0m\n",
      "\u001b[32m[I 2021-12-14 16:36:39,597]\u001b[0m Trial 36 finished with value: 0.8598978039591167 and parameters: {'classifier': 'LogReg', 'logreg_c': 0.045128873912089626}. Best is trial 31 with value: 0.860237185141625.\u001b[0m\n",
      "\u001b[32m[I 2021-12-14 16:36:39,993]\u001b[0m Trial 37 finished with value: 0.8543742705917087 and parameters: {'classifier': 'LogReg', 'logreg_c': 12774.733222921393}. Best is trial 31 with value: 0.860237185141625.\u001b[0m\n"
     ]
    },
    {
     "name": "stderr",
     "output_type": "stream",
     "text": [
      "\u001b[32m[I 2021-12-14 16:36:40,230]\u001b[0m Trial 38 finished with value: 0.0 and parameters: {'classifier': 'LogReg', 'logreg_c': 1.062218264603393e-06}. Best is trial 31 with value: 0.860237185141625.\u001b[0m\n",
      "\u001b[32m[I 2021-12-14 16:36:40,549]\u001b[0m Trial 39 finished with value: 0.8606750211413857 and parameters: {'classifier': 'LogReg', 'logreg_c': 0.0818230773797285}. Best is trial 39 with value: 0.8606750211413857.\u001b[0m\n",
      "\u001b[32m[I 2021-12-14 16:36:40,755]\u001b[0m Trial 40 finished with value: 0.0 and parameters: {'classifier': 'LogReg', 'logreg_c': 8.731032211319525e-05}. Best is trial 39 with value: 0.8606750211413857.\u001b[0m\n",
      "\u001b[32m[I 2021-12-14 16:36:41,048]\u001b[0m Trial 41 finished with value: 0.8602311644991154 and parameters: {'classifier': 'LogReg', 'logreg_c': 0.06735577342889712}. Best is trial 39 with value: 0.8606750211413857.\u001b[0m\n",
      "\u001b[32m[I 2021-12-14 16:36:41,421]\u001b[0m Trial 42 finished with value: 0.8542444110032967 and parameters: {'classifier': 'LogReg', 'logreg_c': 4.499516105130025}. Best is trial 39 with value: 0.8606750211413857.\u001b[0m\n",
      "\u001b[32m[I 2021-12-14 16:36:41,765]\u001b[0m Trial 43 finished with value: 0.859691666793459 and parameters: {'classifier': 'LogReg', 'logreg_c': 0.09094001998403213}. Best is trial 39 with value: 0.8606750211413857.\u001b[0m\n",
      "\u001b[32m[I 2021-12-14 16:36:42,113]\u001b[0m Trial 44 finished with value: 0.8538631355949592 and parameters: {'classifier': 'LogReg', 'logreg_c': 554.6474849708925}. Best is trial 39 with value: 0.8606750211413857.\u001b[0m\n",
      "\u001b[32m[I 2021-12-14 16:36:42,644]\u001b[0m Trial 45 finished with value: 0.8539045849654906 and parameters: {'classifier': 'LogReg', 'logreg_c': 1.522771984291165}. Best is trial 39 with value: 0.8606750211413857.\u001b[0m\n",
      "\u001b[32m[I 2021-12-14 16:36:43,618]\u001b[0m Trial 46 finished with value: 0.8545647802651827 and parameters: {'classifier': 'LogReg', 'logreg_c': 4772469225.927543}. Best is trial 39 with value: 0.8606750211413857.\u001b[0m\n",
      "\u001b[32m[I 2021-12-14 16:36:44,042]\u001b[0m Trial 47 finished with value: 0.8600902533892225 and parameters: {'classifier': 'LogReg', 'logreg_c': 0.09669453154460088}. Best is trial 39 with value: 0.8606750211413857.\u001b[0m\n",
      "\u001b[32m[I 2021-12-14 16:36:50,692]\u001b[0m Trial 48 finished with value: 0.7736045565724274 and parameters: {'classifier': 'RandomForest', 'rf_n_estimators': 428, 'rf_max_depth': 5}. Best is trial 39 with value: 0.8606750211413857.\u001b[0m\n",
      "\u001b[32m[I 2021-12-14 16:36:50,929]\u001b[0m Trial 49 finished with value: 0.0 and parameters: {'classifier': 'LogReg', 'logreg_c': 3.06302121954421e-06}. Best is trial 39 with value: 0.8606750211413857.\u001b[0m\n",
      "\u001b[32m[I 2021-12-14 16:36:51,173]\u001b[0m Trial 50 finished with value: 0.5728487839551333 and parameters: {'classifier': 'LogReg', 'logreg_c': 0.0006719829558100374}. Best is trial 39 with value: 0.8606750211413857.\u001b[0m\n",
      "\u001b[32m[I 2021-12-14 16:36:51,556]\u001b[0m Trial 51 finished with value: 0.8585830381850096 and parameters: {'classifier': 'LogReg', 'logreg_c': 0.12229325455028309}. Best is trial 39 with value: 0.8606750211413857.\u001b[0m\n",
      "\u001b[32m[I 2021-12-14 16:36:51,902]\u001b[0m Trial 52 finished with value: 0.8607553814672283 and parameters: {'classifier': 'LogReg', 'logreg_c': 0.04948088676658693}. Best is trial 52 with value: 0.8607553814672283.\u001b[0m\n",
      "\u001b[32m[I 2021-12-14 16:36:52,297]\u001b[0m Trial 53 finished with value: 0.8538631355949592 and parameters: {'classifier': 'LogReg', 'logreg_c': 72.89476046112755}. Best is trial 52 with value: 0.8607553814672283.\u001b[0m\n",
      "\u001b[32m[I 2021-12-14 16:36:52,685]\u001b[0m Trial 54 finished with value: 0.8539876932595701 and parameters: {'classifier': 'LogReg', 'logreg_c': 3.019517978670847}. Best is trial 52 with value: 0.8607553814672283.\u001b[0m\n",
      "\u001b[32m[I 2021-12-14 16:36:53,613]\u001b[0m Trial 55 finished with value: 0.7734097110411381 and parameters: {'classifier': 'RandomForest', 'rf_n_estimators': 80, 'rf_max_depth': 2}. Best is trial 52 with value: 0.8607553814672283.\u001b[0m\n",
      "\u001b[32m[I 2021-12-14 16:36:53,937]\u001b[0m Trial 56 finished with value: 0.8601631331357332 and parameters: {'classifier': 'LogReg', 'logreg_c': 0.04721376016342445}. Best is trial 52 with value: 0.8607553814672283.\u001b[0m\n",
      "\u001b[32m[I 2021-12-14 16:36:54,177]\u001b[0m Trial 57 finished with value: 0.0 and parameters: {'classifier': 'LogReg', 'logreg_c': 3.941531003930901e-05}. Best is trial 52 with value: 0.8607553814672283.\u001b[0m\n",
      "\u001b[32m[I 2021-12-14 16:36:54,522]\u001b[0m Trial 58 finished with value: 0.854409001747591 and parameters: {'classifier': 'LogReg', 'logreg_c': 0.9685185096133359}. Best is trial 52 with value: 0.8607553814672283.\u001b[0m\n",
      "\u001b[32m[I 2021-12-14 16:36:59,872]\u001b[0m Trial 59 finished with value: 0.8341088998158677 and parameters: {'classifier': 'RandomForest', 'rf_n_estimators': 267, 'rf_max_depth': 16}. Best is trial 52 with value: 0.8607553814672283.\u001b[0m\n",
      "\u001b[32m[I 2021-12-14 16:37:00,095]\u001b[0m Trial 60 finished with value: 0.6977064167542388 and parameters: {'classifier': 'LogReg', 'logreg_c': 0.0009138735402100877}. Best is trial 52 with value: 0.8607553814672283.\u001b[0m\n",
      "\u001b[32m[I 2021-12-14 16:37:00,422]\u001b[0m Trial 61 finished with value: 0.8604908774830768 and parameters: {'classifier': 'LogReg', 'logreg_c': 0.04830741127563635}. Best is trial 52 with value: 0.8607553814672283.\u001b[0m\n",
      "\u001b[32m[I 2021-12-14 16:37:00,787]\u001b[0m Trial 62 finished with value: 0.8586311687029228 and parameters: {'classifier': 'LogReg', 'logreg_c': 0.18827718942477709}. Best is trial 52 with value: 0.8607553814672283.\u001b[0m\n",
      "\u001b[32m[I 2021-12-14 16:37:01,096]\u001b[0m Trial 63 finished with value: 0.8591718711287945 and parameters: {'classifier': 'LogReg', 'logreg_c': 0.02128008056308303}. Best is trial 52 with value: 0.8607553814672283.\u001b[0m\n",
      "\u001b[32m[I 2021-12-14 16:37:01,360]\u001b[0m Trial 64 finished with value: 0.8538397363509466 and parameters: {'classifier': 'LogReg', 'logreg_c': 0.0032542224788939767}. Best is trial 52 with value: 0.8607553814672283.\u001b[0m\n",
      "\u001b[32m[I 2021-12-14 16:37:01,721]\u001b[0m Trial 65 finished with value: 0.8560555053197513 and parameters: {'classifier': 'LogReg', 'logreg_c': 0.320119555945568}. Best is trial 52 with value: 0.8607553814672283.\u001b[0m\n",
      "\u001b[32m[I 2021-12-14 16:37:02,098]\u001b[0m Trial 66 finished with value: 0.8540536452684334 and parameters: {'classifier': 'LogReg', 'logreg_c': 11.246881414217173}. Best is trial 52 with value: 0.8607553814672283.\u001b[0m\n",
      "\u001b[32m[I 2021-12-14 16:37:02,439]\u001b[0m Trial 67 finished with value: 0.8603647733060247 and parameters: {'classifier': 'LogReg', 'logreg_c': 0.037259214906695474}. Best is trial 52 with value: 0.8607553814672283.\u001b[0m\n",
      "\u001b[32m[I 2021-12-14 16:37:02,681]\u001b[0m Trial 68 finished with value: 0.0 and parameters: {'classifier': 'LogReg', 'logreg_c': 1.842753413501031e-10}. Best is trial 52 with value: 0.8607553814672283.\u001b[0m\n",
      "\u001b[32m[I 2021-12-14 16:37:11,260]\u001b[0m Trial 69 finished with value: 0.7756689059906597 and parameters: {'classifier': 'RandomForest', 'rf_n_estimators': 544, 'rf_max_depth': 8}. Best is trial 52 with value: 0.8607553814672283.\u001b[0m\n",
      "\u001b[32m[I 2021-12-14 16:37:11,470]\u001b[0m Trial 70 finished with value: 0.0 and parameters: {'classifier': 'LogReg', 'logreg_c': 0.00014306976120401197}. Best is trial 52 with value: 0.8607553814672283.\u001b[0m\n",
      "\u001b[32m[I 2021-12-14 16:37:11,763]\u001b[0m Trial 71 finished with value: 0.8601064306532833 and parameters: {'classifier': 'LogReg', 'logreg_c': 0.031096187400562057}. Best is trial 52 with value: 0.8607553814672283.\u001b[0m\n",
      "\u001b[32m[I 2021-12-14 16:37:12,107]\u001b[0m Trial 72 finished with value: 0.8546419335045078 and parameters: {'classifier': 'LogReg', 'logreg_c': 0.003561092349471383}. Best is trial 52 with value: 0.8607553814672283.\u001b[0m\n",
      "\u001b[32m[I 2021-12-14 16:37:12,573]\u001b[0m Trial 73 finished with value: 0.8601631331357332 and parameters: {'classifier': 'LogReg', 'logreg_c': 0.04685194047699729}. Best is trial 52 with value: 0.8607553814672283.\u001b[0m\n",
      "\u001b[32m[I 2021-12-14 16:37:13,142]\u001b[0m Trial 74 finished with value: 0.8554764307670853 and parameters: {'classifier': 'LogReg', 'logreg_c': 0.36129111635867583}. Best is trial 52 with value: 0.8607553814672283.\u001b[0m\n",
      "\u001b[32m[I 2021-12-14 16:37:13,526]\u001b[0m Trial 75 finished with value: 0.8271614440078808 and parameters: {'classifier': 'LogReg', 'logreg_c': 0.001724279117539041}. Best is trial 52 with value: 0.8607553814672283.\u001b[0m\n",
      "\u001b[32m[I 2021-12-14 16:37:13,973]\u001b[0m Trial 76 finished with value: 0.8588993159163039 and parameters: {'classifier': 'LogReg', 'logreg_c': 0.011351556356611692}. Best is trial 52 with value: 0.8607553814672283.\u001b[0m\n"
     ]
    },
    {
     "name": "stderr",
     "output_type": "stream",
     "text": [
      "\u001b[32m[I 2021-12-14 16:37:14,428]\u001b[0m Trial 77 finished with value: 0.8539182673583685 and parameters: {'classifier': 'LogReg', 'logreg_c': 2.106280394573983}. Best is trial 52 with value: 0.8607553814672283.\u001b[0m\n",
      "\u001b[32m[I 2021-12-14 16:37:14,727]\u001b[0m Trial 78 finished with value: 0.8603647733060247 and parameters: {'classifier': 'LogReg', 'logreg_c': 0.03777259353052351}. Best is trial 52 with value: 0.8607553814672283.\u001b[0m\n",
      "\u001b[32m[I 2021-12-14 16:37:15,014]\u001b[0m Trial 79 finished with value: 0.43329797429527234 and parameters: {'classifier': 'LogReg', 'logreg_c': 0.0005357095644841184}. Best is trial 52 with value: 0.8607553814672283.\u001b[0m\n",
      "\u001b[32m[I 2021-12-14 16:37:15,402]\u001b[0m Trial 80 finished with value: 0.8541200086753505 and parameters: {'classifier': 'LogReg', 'logreg_c': 65.22913960407905}. Best is trial 52 with value: 0.8607553814672283.\u001b[0m\n",
      "\u001b[32m[I 2021-12-14 16:37:15,732]\u001b[0m Trial 81 finished with value: 0.8598978039591167 and parameters: {'classifier': 'LogReg', 'logreg_c': 0.045129812472731574}. Best is trial 52 with value: 0.8607553814672283.\u001b[0m\n",
      "\u001b[32m[I 2021-12-14 16:37:16,141]\u001b[0m Trial 82 finished with value: 0.854841103306344 and parameters: {'classifier': 'LogReg', 'logreg_c': 0.5701949764315681}. Best is trial 52 with value: 0.8607553814672283.\u001b[0m\n",
      "\u001b[32m[I 2021-12-14 16:37:16,437]\u001b[0m Trial 83 finished with value: 0.8591697740471259 and parameters: {'classifier': 'LogReg', 'logreg_c': 0.013178706613069276}. Best is trial 52 with value: 0.8607553814672283.\u001b[0m\n",
      "\u001b[32m[I 2021-12-14 16:37:16,796]\u001b[0m Trial 84 finished with value: 0.8602311644991154 and parameters: {'classifier': 'LogReg', 'logreg_c': 0.06526764354838523}. Best is trial 52 with value: 0.8607553814672283.\u001b[0m\n",
      "\u001b[32m[I 2021-12-14 16:37:17,159]\u001b[0m Trial 85 finished with value: 0.8542444110032967 and parameters: {'classifier': 'LogReg', 'logreg_c': 7.9240912204743745}. Best is trial 52 with value: 0.8607553814672283.\u001b[0m\n",
      "\u001b[32m[I 2021-12-14 16:37:17,458]\u001b[0m Trial 86 finished with value: 0.8583658617441238 and parameters: {'classifier': 'LogReg', 'logreg_c': 0.0064036069756815035}. Best is trial 52 with value: 0.8607553814672283.\u001b[0m\n",
      "\u001b[32m[I 2021-12-14 16:37:17,829]\u001b[0m Trial 87 finished with value: 0.8575306160651829 and parameters: {'classifier': 'LogReg', 'logreg_c': 0.2138607235656077}. Best is trial 52 with value: 0.8607553814672283.\u001b[0m\n",
      "\u001b[32m[I 2021-12-14 16:37:32,846]\u001b[0m Trial 88 finished with value: 0.8420244581386198 and parameters: {'classifier': 'RandomForest', 'rf_n_estimators': 776, 'rf_max_depth': 18}. Best is trial 52 with value: 0.8607553814672283.\u001b[0m\n",
      "\u001b[32m[I 2021-12-14 16:37:33,379]\u001b[0m Trial 89 finished with value: 0.8546641453980223 and parameters: {'classifier': 'LogReg', 'logreg_c': 1.0757256048534436}. Best is trial 52 with value: 0.8607553814672283.\u001b[0m\n",
      "\u001b[32m[I 2021-12-14 16:37:33,707]\u001b[0m Trial 90 finished with value: 0.7890819402493451 and parameters: {'classifier': 'LogReg', 'logreg_c': 0.001292092002900116}. Best is trial 52 with value: 0.8607553814672283.\u001b[0m\n",
      "\u001b[32m[I 2021-12-14 16:37:34,040]\u001b[0m Trial 91 finished with value: 0.8601632952129415 and parameters: {'classifier': 'LogReg', 'logreg_c': 0.05582619816962326}. Best is trial 52 with value: 0.8607553814672283.\u001b[0m\n",
      "\u001b[32m[I 2021-12-14 16:37:34,383]\u001b[0m Trial 92 finished with value: 0.8602781468973598 and parameters: {'classifier': 'LogReg', 'logreg_c': 0.08756643941776192}. Best is trial 52 with value: 0.8607553814672283.\u001b[0m\n",
      "\u001b[32m[I 2021-12-14 16:37:34,674]\u001b[0m Trial 93 finished with value: 0.8581028822184044 and parameters: {'classifier': 'LogReg', 'logreg_c': 0.00546868741363043}. Best is trial 52 with value: 0.8607553814672283.\u001b[0m\n",
      "\u001b[32m[I 2021-12-14 16:37:34,995]\u001b[0m Trial 94 finished with value: 0.8602311644991154 and parameters: {'classifier': 'LogReg', 'logreg_c': 0.06487240171789234}. Best is trial 52 with value: 0.8607553814672283.\u001b[0m\n",
      "\u001b[32m[I 2021-12-14 16:37:35,469]\u001b[0m Trial 95 finished with value: 0.8579903308825477 and parameters: {'classifier': 'LogReg', 'logreg_c': 0.13040146472494374}. Best is trial 52 with value: 0.8607553814672283.\u001b[0m\n",
      "\u001b[32m[I 2021-12-14 16:37:35,854]\u001b[0m Trial 96 finished with value: 0.8541178946825276 and parameters: {'classifier': 'LogReg', 'logreg_c': 932079.1809532129}. Best is trial 52 with value: 0.8607553814672283.\u001b[0m\n",
      "\u001b[32m[I 2021-12-14 16:37:36,236]\u001b[0m Trial 97 finished with value: 0.854841103306344 and parameters: {'classifier': 'LogReg', 'logreg_c': 0.5948105343089607}. Best is trial 52 with value: 0.8607553814672283.\u001b[0m\n",
      "\u001b[32m[I 2021-12-14 16:37:36,594]\u001b[0m Trial 98 finished with value: 0.8540536452684334 and parameters: {'classifier': 'LogReg', 'logreg_c': 25.510002329286014}. Best is trial 52 with value: 0.8607553814672283.\u001b[0m\n",
      "\u001b[32m[I 2021-12-14 16:37:36,986]\u001b[0m Trial 99 finished with value: 0.8539876932595701 and parameters: {'classifier': 'LogReg', 'logreg_c': 2.6506138010631743}. Best is trial 52 with value: 0.8607553814672283.\u001b[0m\n"
     ]
    }
   ],
   "source": [
    "# Importing the Packages:\n",
    "import optuna\n",
    "from sklearn import linear_model\n",
    "from sklearn import ensemble\n",
    "from sklearn import model_selection\n",
    "\n",
    "#Step 1. Define an objective function to be maximized.\n",
    "def objective(trial):\n",
    "\n",
    "    classifier_name = trial.suggest_categorical(\"classifier\", [\"LogReg\", \"RandomForest\"])\n",
    "    cls_weight = (y_train.shape[0] - np.sum(y_train)) / np.sum(y_train)\n",
    "    # Step 2. Setup values for the hyperparameters:\n",
    "    if classifier_name == 'LogReg':\n",
    "        logreg_c = trial.suggest_float(\"logreg_c\", 1e-10, 1e10, log=True)\n",
    "        classifier_obj = linear_model.LogisticRegression(C=logreg_c, class_weight=cls_weight)\n",
    "    else:\n",
    "        rf_n_estimators = trial.suggest_int(\"rf_n_estimators\", 10, 1000)\n",
    "        rf_max_depth = trial.suggest_int(\"rf_max_depth\", 2, 32, log=True)\n",
    "        classifier_obj = ensemble.RandomForestClassifier(\n",
    "            max_depth=rf_max_depth, n_estimators=rf_n_estimators, class_weight='balanced')\n",
    "\n",
    "    # Step 3: Scoring method:\n",
    "    score = model_selection.cross_val_score(classifier_obj, X_train, y_train, scoring='f1', n_jobs=-1, cv=3)\n",
    "    accuracy = score.mean()\n",
    "    return accuracy\n",
    "\n",
    "# Step 4: Running it\n",
    "study = optuna.create_study(direction=\"maximize\")\n",
    "study.optimize(objective, n_trials=100)"
   ]
  },
  {
   "cell_type": "code",
   "execution_count": 44,
   "metadata": {},
   "outputs": [
    {
     "name": "stdout",
     "output_type": "stream",
     "text": [
      "The best trial is : \n",
      "FrozenTrial(number=52, values=[0.8607553814672283], datetime_start=datetime.datetime(2021, 12, 14, 16, 36, 51, 556562), datetime_complete=datetime.datetime(2021, 12, 14, 16, 36, 51, 902146), params={'classifier': 'LogReg', 'logreg_c': 0.04948088676658693}, distributions={'classifier': CategoricalDistribution(choices=('LogReg', 'RandomForest')), 'logreg_c': LogUniformDistribution(high=10000000000.0, low=1e-10)}, user_attrs={}, system_attrs={}, intermediate_values={}, trial_id=52, state=TrialState.COMPLETE, value=None)\n"
     ]
    }
   ],
   "source": [
    "\n",
    "# Getting the best trial:\n",
    "print(f\"The best trial is : \\n{study.best_trial}\")\n"
   ]
  },
  {
   "cell_type": "code",
   "execution_count": 45,
   "metadata": {},
   "outputs": [
    {
     "name": "stdout",
     "output_type": "stream",
     "text": [
      "The best value is : \n",
      "0.8607553814672283\n"
     ]
    }
   ],
   "source": [
    "# >> Output:\n",
    "#The best trial is : \n",
    "#FrozenTrial(number=18, value=0.9631114824097281, datetime_start=datetime.datetime(2020, 8, 16, 14, 24, 37, 407344), datetime_complete=datetime.datetime(2020, 8, 16, 14, 24, 37, 675114), params={'classifier': 'RandomForest', 'rf_n_estimators': 153, 'rf_max_depth': 21},\n",
    "#distributions={'classifier': CategoricalDistribution(choices=('LogReg', 'RandomForest')), 'rf_n_estimators': IntUniformDistribution(high=1000, low=10, step=1), 'rf_max_depth': IntLogUniformDistribution(high=32, low=2, step=1)}, user_attrs={}, system_attrs={}, intermediate_values={}, trial_id=18, state=TrialState.COMPLETE)\n",
    "\n",
    "# Getting the best score:\n",
    "print(f\"The best value is : \\n{study.best_value}\")\n",
    "# >> Output:\n",
    "# 0.9631114824097281\n",
    "\n"
   ]
  },
  {
   "cell_type": "code",
   "execution_count": 46,
   "metadata": {},
   "outputs": [
    {
     "name": "stdout",
     "output_type": "stream",
     "text": [
      "The best parameters are : \n",
      "{'classifier': 'LogReg', 'logreg_c': 0.04948088676658693}\n"
     ]
    }
   ],
   "source": [
    "# Getting the best parameters:\n",
    "print(f\"The best parameters are : \\n{study.best_params}\")\n",
    "# >> Output:\n",
    "# {'classifier': 'RandomForest', 'rf_n_estimators': 153, 'rf_max_depth': 21}"
   ]
  },
  {
   "cell_type": "code",
   "execution_count": 47,
   "metadata": {},
   "outputs": [],
   "source": [
    "def detailed_objective(trial):\n",
    "    # Use same code objective to reproduce the best model\n",
    "#     X, y = make_classification(n_features=10, random_state=1)\n",
    "#     X_train, X_test, y_train, y_test = train_test_split(X, y, random_state=1)\n",
    "\n",
    "    \n",
    "#     rf_n_estimators = trial.suggest_int(\"rf_n_estimators\", 10, 1000)\n",
    "#     rf_max_depth = trial.suggest_int(\"rf_max_depth\", 2, 32, log=True)\n",
    "#     clf = ensemble.RandomForestClassifier(\n",
    "#         max_depth=rf_max_depth, n_estimators=rf_n_estimators)\n",
    "\n",
    "#     clf = RandomForestClassifier(C=C)\n",
    "    cls_weight = (y_train.shape[0] - np.sum(y_train)) / np.sum(y_train)\n",
    "    logreg_c = 0.07556138435820774\n",
    "    clf = linear_model.LogisticRegression(C=logreg_c, class_weight=cls_weight)\n",
    "    \n",
    "    clf.fit(X_train, y_train)\n",
    "\n",
    "    # calculate more evaluation metrics\n",
    "    pred = clf.predict(X_val)\n",
    "    rf_optuna = clf.predict(test)\n",
    "\n",
    "    acc = accuracy_score(pred, y_val)\n",
    "#     recall = recall_score(pred, y_val)\n",
    "#     precision = precision_score(pred, y_val)\n",
    "    f1 = f1_score(pred, y_val)\n",
    "\n",
    "    return acc, f1, rf_optuna"
   ]
  },
  {
   "cell_type": "code",
   "execution_count": 48,
   "metadata": {},
   "outputs": [
    {
     "data": {
      "text/plain": [
       "(0.9808319467554076, 0.8731277533039649)"
      ]
     },
     "execution_count": 48,
     "metadata": {},
     "output_type": "execute_result"
    }
   ],
   "source": [
    "acc, f1, lr_optuna = detailed_objective(study.best_trial)\n",
    "\n",
    "acc, f1"
   ]
  },
  {
   "cell_type": "code",
   "execution_count": 61,
   "metadata": {},
   "outputs": [],
   "source": [
    "submission_sample = pd.read_csv('sample_submission.csv')\n",
    "test_2 = pd.read_csv('test.csv')\n",
    "\n",
    "customer_id = np.array(test_2.customer_id)\n",
    "\n",
    "lr_optuna_tuned = pd.DataFrame({'customer_id': customer_id,\n",
    "                               'credit_card_default':  lr_optuna})"
   ]
  },
  {
   "cell_type": "code",
   "execution_count": 62,
   "metadata": {},
   "outputs": [
    {
     "data": {
      "text/plain": [
       "(11383, 2)"
      ]
     },
     "execution_count": 62,
     "metadata": {},
     "output_type": "execute_result"
    }
   ],
   "source": [
    "lr_optuna_tuned.shape"
   ]
  },
  {
   "cell_type": "code",
   "execution_count": 63,
   "metadata": {},
   "outputs": [],
   "source": [
    "lr_optuna_tuned.to_csv('lr_optuna_tuned.csv', index=False)"
   ]
  },
  {
   "cell_type": "code",
   "execution_count": null,
   "metadata": {},
   "outputs": [],
   "source": []
  },
  {
   "cell_type": "code",
   "execution_count": 86,
   "metadata": {},
   "outputs": [],
   "source": [
    "from sklearn.utils import class_weight"
   ]
  },
  {
   "cell_type": "code",
   "execution_count": 97,
   "metadata": {},
   "outputs": [
    {
     "data": {
      "text/plain": [
       "11.485878018829307"
      ]
     },
     "execution_count": 97,
     "metadata": {},
     "output_type": "execute_result"
    }
   ],
   "source": []
  },
  {
   "cell_type": "markdown",
   "metadata": {},
   "source": [
    "#### fit a logistic regression model"
   ]
  },
  {
   "cell_type": "code",
   "execution_count": 35,
   "metadata": {},
   "outputs": [],
   "source": [
    "# from sklearn.linear_model import LogisticRegression\n",
    "logreg = LogisticRegression(max_iter = 800).fit(X_train, y_train)\n",
    "logreg_pred = logreg.predict(X_val)"
   ]
  },
  {
   "cell_type": "code",
   "execution_count": 36,
   "metadata": {},
   "outputs": [
    {
     "data": {
      "text/plain": [
       "(array([0, 1], dtype=int64), array([13962,  1063], dtype=int64))"
      ]
     },
     "execution_count": 36,
     "metadata": {},
     "output_type": "execute_result"
    }
   ],
   "source": [
    "np.unique(logreg_pred, return_counts=True)"
   ]
  },
  {
   "cell_type": "code",
   "execution_count": 37,
   "metadata": {},
   "outputs": [
    {
     "data": {
      "text/plain": [
       "0.1429426889099683"
      ]
     },
     "execution_count": 37,
     "metadata": {},
     "output_type": "execute_result"
    }
   ],
   "source": [
    "# from sklearn.metrics import mean_squared_error, f1_score\n",
    "np.sqrt(mean_squared_error(y_val, logreg_pred))"
   ]
  },
  {
   "cell_type": "code",
   "execution_count": 38,
   "metadata": {},
   "outputs": [
    {
     "data": {
      "text/plain": [
       "0.8675010789814415"
      ]
     },
     "execution_count": 38,
     "metadata": {},
     "output_type": "execute_result"
    }
   ],
   "source": [
    "f1_score(y_val, logreg_pred)"
   ]
  },
  {
   "cell_type": "code",
   "execution_count": 39,
   "metadata": {},
   "outputs": [
    {
     "data": {
      "text/plain": [
       "0.979567387687188"
      ]
     },
     "execution_count": 39,
     "metadata": {},
     "output_type": "execute_result"
    }
   ],
   "source": [
    "accuracy_score(y_val, logreg_pred)"
   ]
  },
  {
   "cell_type": "code",
   "execution_count": 40,
   "metadata": {},
   "outputs": [],
   "source": [
    "# from sklearn.naive_bayes import GaussianNB\n",
    "# from sklearn.tree import DecisionTreeClassifier\n",
    "# from sklearn.ensemble import RandomForestClassifier"
   ]
  },
  {
   "cell_type": "code",
   "execution_count": 41,
   "metadata": {},
   "outputs": [],
   "source": [
    "algos = [GaussianNB(),  DecisionTreeClassifier(), RandomForestClassifier()]\n",
    "\n",
    "names = ['Naive Bayes', 'Decision Tree Classifier', 'Random Forest Classifier']\n",
    "\n",
    "rmse_list = []\n",
    "f1_score_list = []\n",
    "accuracy_score_list = []"
   ]
  },
  {
   "cell_type": "code",
   "execution_count": 42,
   "metadata": {},
   "outputs": [],
   "source": [
    "for name in algos:\n",
    "    model = name\n",
    "    model.fit(X_train,y_train)\n",
    "    y_pred = model.predict(X_val)\n",
    "    MSE= mean_squared_error(y_val,y_pred)\n",
    "    rmse = np.sqrt(MSE)\n",
    "    rmse_list.append(rmse)\n",
    "    f1_score_list.append(f1_score(y_val, y_pred))\n",
    "    accuracy_score_list.append(accuracy_score(y_val, y_pred))"
   ]
  },
  {
   "cell_type": "code",
   "execution_count": 43,
   "metadata": {},
   "outputs": [
    {
     "data": {
      "text/html": [
       "<div>\n",
       "<style scoped>\n",
       "    .dataframe tbody tr th:only-of-type {\n",
       "        vertical-align: middle;\n",
       "    }\n",
       "\n",
       "    .dataframe tbody tr th {\n",
       "        vertical-align: top;\n",
       "    }\n",
       "\n",
       "    .dataframe thead th {\n",
       "        text-align: right;\n",
       "    }\n",
       "</style>\n",
       "<table border=\"1\" class=\"dataframe\">\n",
       "  <thead>\n",
       "    <tr style=\"text-align: right;\">\n",
       "      <th></th>\n",
       "      <th>Model</th>\n",
       "      <th>RMSE</th>\n",
       "      <th>F1-score</th>\n",
       "      <th>accuracy score</th>\n",
       "    </tr>\n",
       "  </thead>\n",
       "  <tbody>\n",
       "    <tr>\n",
       "      <th>0</th>\n",
       "      <td>Naive Bayes</td>\n",
       "      <td>0.149764</td>\n",
       "      <td>0.845625</td>\n",
       "      <td>0.977571</td>\n",
       "    </tr>\n",
       "    <tr>\n",
       "      <th>1</th>\n",
       "      <td>Decision Tree Classifier</td>\n",
       "      <td>0.168383</td>\n",
       "      <td>0.834756</td>\n",
       "      <td>0.971647</td>\n",
       "    </tr>\n",
       "    <tr>\n",
       "      <th>2</th>\n",
       "      <td>Random Forest Classifier</td>\n",
       "      <td>0.139168</td>\n",
       "      <td>0.869915</td>\n",
       "      <td>0.980632</td>\n",
       "    </tr>\n",
       "  </tbody>\n",
       "</table>\n",
       "</div>"
      ],
      "text/plain": [
       "                      Model      RMSE  F1-score  accuracy score\n",
       "0               Naive Bayes  0.149764  0.845625        0.977571\n",
       "1  Decision Tree Classifier  0.168383  0.834756        0.971647\n",
       "2  Random Forest Classifier  0.139168  0.869915        0.980632"
      ]
     },
     "execution_count": 43,
     "metadata": {},
     "output_type": "execute_result"
    }
   ],
   "source": [
    "evaluation = pd.DataFrame({'Model': names,\n",
    "                           'RMSE': rmse_list,\n",
    "                            'F1-score': f1_score_list,\n",
    "                            'accuracy score': accuracy_score_list})\n",
    "evaluation"
   ]
  },
  {
   "cell_type": "code",
   "execution_count": 46,
   "metadata": {},
   "outputs": [],
   "source": [
    "#going with RF\n",
    "model = RandomForestClassifier()\n",
    "model.fit(X, y)\n",
    "final_predictions = model.predict(test)"
   ]
  },
  {
   "cell_type": "code",
   "execution_count": 57,
   "metadata": {},
   "outputs": [
    {
     "data": {
      "text/plain": [
       "array([0, 0, 1, ..., 0, 0, 0], dtype=int64)"
      ]
     },
     "execution_count": 57,
     "metadata": {},
     "output_type": "execute_result"
    }
   ],
   "source": [
    "final_predictions"
   ]
  },
  {
   "cell_type": "code",
   "execution_count": 57,
   "metadata": {},
   "outputs": [],
   "source": [
    "submission_sample = pd.read_csv('sample_submission.csv')\n",
    "test_2 = pd.read_csv('test.csv')"
   ]
  },
  {
   "cell_type": "code",
   "execution_count": 58,
   "metadata": {},
   "outputs": [],
   "source": [
    "customer_id = np.array(test_2.customer_id)"
   ]
  },
  {
   "cell_type": "code",
   "execution_count": 60,
   "metadata": {},
   "outputs": [],
   "source": [
    "rf_submission = pd.DataFrame({'customer_id': customer_id,\n",
    "                               'credit_card_default':  final_predictions})"
   ]
  },
  {
   "cell_type": "code",
   "execution_count": 63,
   "metadata": {},
   "outputs": [
    {
     "data": {
      "text/plain": [
       "(11383, 2)"
      ]
     },
     "execution_count": 63,
     "metadata": {},
     "output_type": "execute_result"
    }
   ],
   "source": [
    "rf_submission.shape"
   ]
  },
  {
   "cell_type": "code",
   "execution_count": 64,
   "metadata": {},
   "outputs": [],
   "source": [
    "rf_submission.to_csv('rf_submission.csv', index=False)"
   ]
  },
  {
   "cell_type": "code",
   "execution_count": null,
   "metadata": {},
   "outputs": [],
   "source": []
  },
  {
   "cell_type": "code",
   "execution_count": null,
   "metadata": {},
   "outputs": [],
   "source": []
  },
  {
   "cell_type": "code",
   "execution_count": null,
   "metadata": {},
   "outputs": [],
   "source": []
  },
  {
   "cell_type": "code",
   "execution_count": null,
   "metadata": {},
   "outputs": [],
   "source": []
  },
  {
   "cell_type": "code",
   "execution_count": null,
   "metadata": {},
   "outputs": [],
   "source": []
  },
  {
   "cell_type": "code",
   "execution_count": 36,
   "metadata": {},
   "outputs": [
    {
     "name": "stderr",
     "output_type": "stream",
     "text": [
      "c:\\python38\\lib\\site-packages\\pandas\\core\\frame.py:4308: SettingWithCopyWarning: \n",
      "A value is trying to be set on a copy of a slice from a DataFrame\n",
      "\n",
      "See the caveats in the documentation: https://pandas.pydata.org/pandas-docs/stable/user_guide/indexing.html#returning-a-view-versus-a-copy\n",
      "  return super().drop(\n"
     ]
    }
   ],
   "source": [
    "X_train.drop(columns=['customer_id', 'name'], inplace=True)\n",
    "X_val.drop(columns=['customer_id', 'name'], inplace=True)"
   ]
  },
  {
   "cell_type": "code",
   "execution_count": 41,
   "metadata": {},
   "outputs": [],
   "source": [
    "import timeit\n",
    "import pickle\n",
    "import sys\n",
    "from sklearn.metrics import confusion_matrix, classification_report, roc_auc_score, \\\n",
    "                            precision_recall_curve, roc_curve, accuracy_score\n",
    "from sklearn.exceptions import NotFittedError"
   ]
  },
  {
   "cell_type": "code",
   "execution_count": 46,
   "metadata": {},
   "outputs": [],
   "source": [
    "def train_clf(clf, x_train, y_train, sample_weight=None, refit=False):\n",
    "    train_time = 0\n",
    "    \n",
    "    try:\n",
    "        if refit:\n",
    "            raise NotFittedError\n",
    "        y_pred_train = clf.predict(x_train)\n",
    "    except NotFittedError:\n",
    "        start = timeit.default_timer()\n",
    "        \n",
    "        if sample_weight is not None:\n",
    "            clf.fit(x_train, y_train, sample_weight=sample_weight)\n",
    "        else:\n",
    "            clf.fit(x_train, y_train)\n",
    "        \n",
    "        end = timeit.default_timer()\n",
    "        train_time = end - start\n",
    "        \n",
    "        y_pred_train = clf.predict(x_train)\n",
    "    \n",
    "    train_acc = accuracy_score(y_train, y_pred_train)\n",
    "    return clf, y_pred_train, train_acc, train_time"
   ]
  },
  {
   "cell_type": "code",
   "execution_count": 47,
   "metadata": {},
   "outputs": [],
   "source": [
    "def model_memory_size(clf):\n",
    "    return sys.getsizeof(pickle.dumps(clf))"
   ]
  },
  {
   "cell_type": "code",
   "execution_count": 48,
   "metadata": {},
   "outputs": [],
   "source": [
    "def feature_importance_plot(importances, feature_labels, ax=None):\n",
    "    fig, axis = (None, ax) if ax else plt.subplots(nrows=1, ncols=1, figsize=(5, 10))\n",
    "    sns.barplot(x=importances, y=feature_labels, ax=axis)\n",
    "    axis.set_title('Feature Importance Measures')\n",
    "    \n",
    "    plt.close()\n",
    "    \n",
    "    return axis if ax else fig"
   ]
  },
  {
   "cell_type": "code",
   "execution_count": 49,
   "metadata": {},
   "outputs": [],
   "source": [
    "def precision_recall_plot(y_true, y_probs, label, compare=False, ax=None):\n",
    "    \"\"\" Plot Precision-Recall curve.\n",
    "        Set `compare=True` to use this function to compare classifiers. \"\"\"\n",
    "    \n",
    "    p, r, thresh = precision_recall_curve(y_true, y_probs)\n",
    "    p, r, thresh = list(p), list(r), list(thresh)\n",
    "    p.pop()\n",
    "    r.pop()\n",
    "    \n",
    "    fig, axis = (None, ax) if ax else plt.subplots(nrows=1, ncols=1)\n",
    "    \n",
    "    if compare:\n",
    "        sns.lineplot(r, p, ax=axis, label=label)\n",
    "        axis.set_xlabel('Recall')\n",
    "        axis.set_ylabel('Precision')\n",
    "        axis.legend(loc='lower left')\n",
    "    else:\n",
    "        sns.lineplot(thresh, p, label='Precision', ax=axis)\n",
    "        axis.set_xlabel('Threshold')\n",
    "        axis.set_ylabel('Precision')\n",
    "        axis.legend(loc='lower left')\n",
    "\n",
    "        axis_twin = axis.twinx()\n",
    "        sns.lineplot(thresh, r, color='limegreen', label='Recall', ax=axis_twin)\n",
    "        axis_twin.set_ylabel('Recall')\n",
    "        axis_twin.set_ylim(0, 1)\n",
    "        axis_twin.legend(bbox_to_anchor=(0.24, 0.18))\n",
    "    \n",
    "    axis.set_xlim(0, 1)\n",
    "    axis.set_ylim(0, 1)\n",
    "    axis.set_title('Precision Vs Recall')\n",
    "    \n",
    "    plt.close()\n",
    "    \n",
    "    return axis if ax else fig"
   ]
  },
  {
   "cell_type": "code",
   "execution_count": 50,
   "metadata": {},
   "outputs": [],
   "source": [
    "def roc_plot(y_true, y_probs, label, compare=False, ax=None):\n",
    "    \"\"\" Plot Receiver Operating Characteristic (ROC) curve \n",
    "        Set `compare=True` to use this function to compare classifiers. \"\"\"\n",
    "    \n",
    "    fpr, tpr, thresh = roc_curve(y_true, y_probs,\n",
    "                                 drop_intermediate=False)\n",
    "    auc = round(roc_auc_score(y_true, y_probs), 2)\n",
    "    \n",
    "    fig, axis = (None, ax) if ax else plt.subplots(nrows=1, ncols=1)\n",
    "    label = ' '.join([label, f'({auc})']) if compare else None\n",
    "    sns.lineplot(x=fpr, y=tpr, ax=axis, label=label)\n",
    "    \n",
    "    if compare:\n",
    "        axis.legend(title='Classifier (AUC)', loc='lower right')\n",
    "    else:\n",
    "        axis.text(0.72, 0.05, f'AUC = { auc }', fontsize=12,\n",
    "                  bbox=dict(facecolor='green', alpha=0.4, pad=5))\n",
    "            \n",
    "        # Plot No-Info classifier\n",
    "        axis.fill_between(fpr, fpr, tpr, alpha=0.3, edgecolor='g',\n",
    "                          linestyle='--', linewidth=2)\n",
    "        \n",
    "    axis.set_xlim(0, 1)\n",
    "    axis.set_ylim(0, 1)\n",
    "    axis.set_title('ROC Curve')\n",
    "    axis.set_xlabel('False Positive Rate [FPR]\\n(1 - Specificity)')\n",
    "    axis.set_ylabel('True Positive Rate [TPR]\\n(Sensitivity or Recall)')\n",
    "    \n",
    "    plt.close()\n",
    "    \n",
    "    return axis if ax else fig"
   ]
  },
  {
   "cell_type": "code",
   "execution_count": 51,
   "metadata": {},
   "outputs": [],
   "source": [
    "def confusion_plot(matrix, labels=None):\n",
    "    \"\"\" Display binary confusion matrix as a Seaborn heatmap \"\"\"\n",
    "    \n",
    "    labels = labels if labels else ['Negative (0)', 'Positive (1)']\n",
    "    \n",
    "    fig, ax = plt.subplots(nrows=1, ncols=1)\n",
    "    sns.heatmap(data=matrix, cmap='Blues', annot=True, fmt='d',\n",
    "                xticklabels=labels, yticklabels=labels, ax=ax)\n",
    "    ax.set_xlabel('PREDICTED')\n",
    "    ax.set_ylabel('ACTUAL')\n",
    "    ax.set_title('Confusion Matrix')\n",
    "    plt.close()\n",
    "    \n",
    "    return fig"
   ]
  },
  {
   "cell_type": "code",
   "execution_count": 40,
   "metadata": {},
   "outputs": [],
   "source": [
    "def report(clf, x_train, y_train, x_test, y_test, display_scores=[],\n",
    "           sample_weight=None, refit=False, importance_plot=False,\n",
    "           confusion_labels=None, feature_labels=None, verbose=True):\n",
    "    \"\"\" Trains the passed classifier if not already trained and reports\n",
    "        various metrics of the trained classifier \"\"\"\n",
    "    \n",
    "    dump = dict()\n",
    "    \n",
    "    ## Train if not already trained\n",
    "    clf, train_predictions, \\\n",
    "    train_acc, train_time = train_clf(clf, x_train, y_train,\n",
    "                                      sample_weight=sample_weight,\n",
    "                                      refit=refit)\n",
    "    ## Testing\n",
    "    start = timeit.default_timer()\n",
    "    test_predictions = clf.predict(x_test)\n",
    "    end = timeit.default_timer()\n",
    "    test_time = end - start\n",
    "    \n",
    "    test_acc = accuracy_score(y_test, test_predictions)\n",
    "    y_probs = clf.predict_proba(x_test)[:, 1]\n",
    "    \n",
    "    roc_auc = roc_auc_score(y_test, y_probs)\n",
    "        \n",
    "    ## Additional scores\n",
    "    scores_dict = dict()\n",
    "    for func in display_scores:\n",
    "        scores_dict[func.__name__] = [func(y_train, train_predictions),\n",
    "                                      func(y_test, test_predictions)]\n",
    "        \n",
    "    ## Model Memory\n",
    "    model_mem = round(model_memory_size(clf) / 1024, 2)\n",
    "    \n",
    "    print(clf)\n",
    "    print(\"\\n=============================> TRAIN-TEST DETAILS <======================================\")\n",
    "    \n",
    "    ## Metrics\n",
    "    print(f\"Train Size: {x_train.shape[0]} samples\")\n",
    "    print(f\" Test Size: {x_test.shape[0]} samples\")\n",
    "    print(\"---------------------------------------------\")\n",
    "    print(f\"Training Time: {round(train_time, 3)} seconds\")\n",
    "    print(f\" Testing Time: {round(test_time, 3)} seconds\")\n",
    "    print(\"---------------------------------------------\")\n",
    "    print(\"Train Accuracy: \", train_acc)\n",
    "    print(\" Test Accuracy: \", test_acc)\n",
    "    print(\"---------------------------------------------\")\n",
    "    \n",
    "    if display_scores:\n",
    "        for k, v in scores_dict.items():\n",
    "            score_name = ' '.join(map(lambda x: x.title(), k.split('_')))\n",
    "            print(f'Train {score_name}: ', v[0])\n",
    "            print(f' Test {score_name}: ', v[1])\n",
    "            print()\n",
    "        print(\"---------------------------------------------\")\n",
    "    \n",
    "    print(\" Area Under ROC (test): \", roc_auc)\n",
    "    print(\"---------------------------------------------\")\n",
    "    print(f\"Model Memory Size: {model_mem} kB\")\n",
    "    print(\"\\n=============================> CLASSIFICATION REPORT <===================================\")\n",
    "    \n",
    "    ## Classification Report\n",
    "    clf_rep = classification_report(y_test, test_predictions, output_dict=True)\n",
    "    \n",
    "    print(classification_report(y_test, test_predictions,\n",
    "                                target_names=confusion_labels))\n",
    "    \n",
    "    \n",
    "    if verbose:\n",
    "        print(\"\\n================================> CONFUSION MATRIX <=====================================\")\n",
    "    \n",
    "        ## Confusion Matrix HeatMap\n",
    "        display(confusion_plot(confusion_matrix(y_test, test_predictions),\n",
    "                               labels=confusion_labels))\n",
    "        print(\"\\n=======================================> PLOTS <=========================================\")\n",
    "\n",
    "\n",
    "        ## Variable importance plot\n",
    "        fig, axes = plt.subplots(nrows=2, ncols=2, figsize=(14, 10))\n",
    "        roc_axes = axes[0, 0]\n",
    "        pr_axes = axes[0, 1]\n",
    "        importances = None\n",
    "\n",
    "        if importance_plot:\n",
    "            if not feature_labels:\n",
    "                raise RuntimeError(\"'feature_labels' argument not passed \"\n",
    "                                   \"when 'importance_plot' is True\")\n",
    "\n",
    "            try:\n",
    "                importances = pd.Series(clf.feature_importances_,\n",
    "                                        index=feature_labels) \\\n",
    "                                .sort_values(ascending=False)\n",
    "            except AttributeError:\n",
    "                try:\n",
    "                    importances = pd.Series(clf.coef_.ravel(),\n",
    "                                            index=feature_labels) \\\n",
    "                                    .sort_values(ascending=False)\n",
    "                except AttributeError:\n",
    "                    pass\n",
    "\n",
    "            if importances is not None:\n",
    "                # Modifying grid\n",
    "                grid_spec = axes[0, 0].get_gridspec()\n",
    "                for ax in axes[:, 0]:\n",
    "                    ax.remove()   # remove first column axes\n",
    "                large_axs = fig.add_subplot(grid_spec[0:, 0])\n",
    "\n",
    "                # Plot importance curve\n",
    "                feature_importance_plot(importances=importances.values,\n",
    "                                        feature_labels=importances.index,\n",
    "                                        ax=large_axs)\n",
    "                large_axs.axvline(x=0)\n",
    "\n",
    "                # Axis for ROC and PR curve\n",
    "                roc_axes = axes[0, 1]\n",
    "                pr_axes = axes[1, 1]\n",
    "            else:\n",
    "                # remove second row axes\n",
    "                for ax in axes[1, :]:\n",
    "                    ax.remove()\n",
    "        else:\n",
    "            # remove second row axes\n",
    "            for ax in axes[1, :]:\n",
    "                ax.remove()\n",
    "\n",
    "\n",
    "        ## ROC and Precision-Recall curves\n",
    "        clf_name = clf.__class__.__name__\n",
    "        roc_plot(y_test, y_probs, clf_name, ax=roc_axes)\n",
    "        precision_recall_plot(y_test, y_probs, clf_name, ax=pr_axes)\n",
    "\n",
    "        fig.subplots_adjust(wspace=5)\n",
    "        fig.tight_layout()\n",
    "        display(fig)\n",
    "    \n",
    "    ## Dump to report_dict\n",
    "    dump = dict(clf=clf, accuracy=[train_acc, test_acc], **scores_dict,\n",
    "                train_time=train_time, train_predictions=train_predictions,\n",
    "                test_time=test_time, test_predictions=test_predictions,\n",
    "                test_probs=y_probs, report=clf_rep, roc_auc=roc_auc,\n",
    "                model_memory=model_mem)\n",
    "    \n",
    "    return clf, dump"
   ]
  },
  {
   "cell_type": "code",
   "execution_count": null,
   "metadata": {},
   "outputs": [],
   "source": []
  },
  {
   "cell_type": "code",
   "execution_count": null,
   "metadata": {},
   "outputs": [],
   "source": []
  },
  {
   "cell_type": "code",
   "execution_count": null,
   "metadata": {},
   "outputs": [],
   "source": []
  },
  {
   "cell_type": "code",
   "execution_count": 38,
   "metadata": {},
   "outputs": [],
   "source": [
    "from xgboost import XGBClassifier\n",
    "from sklearn.utils import class_weight\n",
    "from sklearn import metrics"
   ]
  },
  {
   "cell_type": "code",
   "execution_count": 39,
   "metadata": {},
   "outputs": [],
   "source": [
    "primary_eval_metric = metrics.f1_score\n",
    "confusion_lbs = ['not a defaulter', 'defaulter']\n",
    "\n",
    "## Compute `class_weights` using sklearn\n",
    "cls_weight = (y_train.shape[0] - np.sum(y_train)) / np.sum(y_train)"
   ]
  },
  {
   "cell_type": "code",
   "execution_count": 52,
   "metadata": {},
   "outputs": [
    {
     "name": "stdout",
     "output_type": "stream",
     "text": [
      "[20:26:25] WARNING: C:/Users/Administrator/workspace/xgboost-win64_release_1.4.0/src/learner.cc:1095: Starting in XGBoost 1.3.0, the default evaluation metric used with the objective 'binary:logistic' was changed from 'error' to 'logloss'. Explicitly set eval_metric if you'd like to restore the old behavior.\n"
     ]
    },
    {
     "name": "stderr",
     "output_type": "stream",
     "text": [
      "c:\\python38\\lib\\site-packages\\xgboost\\data.py:112: UserWarning: Use subset (sliced data) of np.ndarray is not recommended because it will generate extra copies and increase memory consumption\n",
      "  warnings.warn(\n"
     ]
    },
    {
     "name": "stdout",
     "output_type": "stream",
     "text": [
      "XGBClassifier(base_score=0.5, booster='gbtree', colsample_bylevel=1,\n",
      "              colsample_bynode=1, colsample_bytree=1, gamma=0, gpu_id=-1,\n",
      "              importance_type='gain', interaction_constraints='',\n",
      "              learning_rate=0.300000012, max_delta_step=0, max_depth=6,\n",
      "              min_child_weight=1, missing=nan, monotone_constraints='()',\n",
      "              n_estimators=100, n_jobs=-1, num_parallel_tree=1, random_state=0,\n",
      "              reg_alpha=0, reg_lambda=1, scale_pos_weight=11.485878018829307,\n",
      "              subsample=1, tree_method='exact', validate_parameters=1,\n",
      "              verbosity=None)\n",
      "\n",
      "=============================> TRAIN-TEST DETAILS <======================================\n",
      "Train Size: 30503 samples\n",
      " Test Size: 15025 samples\n",
      "---------------------------------------------\n",
      "Training Time: 0 seconds\n",
      " Testing Time: 0.017 seconds\n",
      "---------------------------------------------\n",
      "Train Accuracy:  0.9969839032226339\n",
      " Test Accuracy:  0.9687853577371048\n",
      "---------------------------------------------\n",
      "Train F1 Score:  0.9815186822016875\n",
      " Test F1 Score:  0.8237504697482151\n",
      "\n",
      "---------------------------------------------\n",
      " Area Under ROC (test):  0.9939706409824774\n",
      "---------------------------------------------\n",
      "Model Memory Size: 348.91 kB\n",
      "\n",
      "=============================> CLASSIFICATION REPORT <===================================\n",
      "                 precision    recall  f1-score   support\n",
      "\n",
      "not a defaulter       0.99      0.98      0.98     13771\n",
      "      defaulter       0.78      0.87      0.82      1254\n",
      "\n",
      "       accuracy                           0.97     15025\n",
      "      macro avg       0.88      0.93      0.90     15025\n",
      "   weighted avg       0.97      0.97      0.97     15025\n",
      "\n",
      "\n",
      "================================> CONFUSION MATRIX <=====================================\n"
     ]
    },
    {
     "data": {
      "image/png": "[encoded data removed]",
      "text/plain": [
       "<Figure size 432x288 with 2 Axes>"
      ]
     },
     "metadata": {},
     "output_type": "display_data"
    },
    {
     "name": "stdout",
     "output_type": "stream",
     "text": [
      "\n",
      "=======================================> PLOTS <=========================================\n"
     ]
    },
    {
     "ename": "RuntimeError",
     "evalue": "'feature_labels' argument not passed when 'importance_plot' is True",
     "output_type": "error",
     "traceback": [
      "\u001b[1;31m---------------------------------------------------------------------------\u001b[0m",
      "\u001b[1;31mRuntimeError\u001b[0m                              Traceback (most recent call last)",
      "\u001b[1;32m<ipython-input-52-a6dc78085ffd>\u001b[0m in \u001b[0;36m<module>\u001b[1;34m\u001b[0m\n\u001b[0;32m      3\u001b[0m \u001b[0mxgb_clf_default\u001b[0m\u001b[1;33m.\u001b[0m\u001b[0mfit\u001b[0m\u001b[1;33m(\u001b[0m\u001b[0mX_train\u001b[0m\u001b[1;33m,\u001b[0m \u001b[0my_train\u001b[0m\u001b[1;33m)\u001b[0m\u001b[1;33m\u001b[0m\u001b[1;33m\u001b[0m\u001b[0m\n\u001b[0;32m      4\u001b[0m \u001b[1;33m\u001b[0m\u001b[0m\n\u001b[1;32m----> 5\u001b[1;33m xgb_clf_default, xgb_report_default = report(xgb_clf_default, X_train, y_train,\n\u001b[0m\u001b[0;32m      6\u001b[0m                                              \u001b[0mX_val\u001b[0m\u001b[1;33m,\u001b[0m \u001b[0my_val\u001b[0m\u001b[1;33m,\u001b[0m\u001b[1;33m\u001b[0m\u001b[1;33m\u001b[0m\u001b[0m\n\u001b[0;32m      7\u001b[0m                                              \u001b[0mdisplay_scores\u001b[0m\u001b[1;33m=\u001b[0m\u001b[1;33m[\u001b[0m\u001b[0mprimary_eval_metric\u001b[0m\u001b[1;33m]\u001b[0m\u001b[1;33m,\u001b[0m\u001b[1;33m\u001b[0m\u001b[1;33m\u001b[0m\u001b[0m\n",
      "\u001b[1;32m<ipython-input-40-e9328ab0828a>\u001b[0m in \u001b[0;36mreport\u001b[1;34m(clf, x_train, y_train, x_test, y_test, display_scores, sample_weight, refit, importance_plot, confusion_labels, feature_labels, verbose)\u001b[0m\n\u001b[0;32m     83\u001b[0m         \u001b[1;32mif\u001b[0m \u001b[0mimportance_plot\u001b[0m\u001b[1;33m:\u001b[0m\u001b[1;33m\u001b[0m\u001b[1;33m\u001b[0m\u001b[0m\n\u001b[0;32m     84\u001b[0m             \u001b[1;32mif\u001b[0m \u001b[1;32mnot\u001b[0m \u001b[0mfeature_labels\u001b[0m\u001b[1;33m:\u001b[0m\u001b[1;33m\u001b[0m\u001b[1;33m\u001b[0m\u001b[0m\n\u001b[1;32m---> 85\u001b[1;33m                 raise RuntimeError(\"'feature_labels' argument not passed \"\n\u001b[0m\u001b[0;32m     86\u001b[0m                                    \"when 'importance_plot' is True\")\n\u001b[0;32m     87\u001b[0m \u001b[1;33m\u001b[0m\u001b[0m\n",
      "\u001b[1;31mRuntimeError\u001b[0m: 'feature_labels' argument not passed when 'importance_plot' is True"
     ]
    },
    {
     "data": {
      "image/png": "[encoded data removed]",
      "text/plain": [
       "<Figure size 1008x720 with 4 Axes>"
      ]
     },
     "metadata": {
      "needs_background": "light"
     },
     "output_type": "display_data"
    }
   ],
   "source": [
    "xgb_clf_default = XGBClassifier(scale_pos_weight=cls_weight,\n",
    "                                random_state=0, n_jobs=-1)\n",
    "xgb_clf_default.fit(X_train, y_train)\n",
    "\n",
    "xgb_clf_default, xgb_report_default = report(xgb_clf_default, X_train, y_train,\n",
    "                                             X_val, y_val,\n",
    "                                             display_scores=[primary_eval_metric],\n",
    "                                             importance_plot=True,\n",
    "                                             confusion_labels=confusion_lbs)"
   ]
  },
  {
   "cell_type": "code",
   "execution_count": null,
   "metadata": {},
   "outputs": [],
   "source": [
    "# test.drop(columns=['customer_id', 'name'], inplace=True)"
   ]
  },
  {
   "cell_type": "code",
   "execution_count": 59,
   "metadata": {},
   "outputs": [],
   "source": [
    "xgb_default_preds = xgb_clf_default.predict(test)"
   ]
  },
  {
   "cell_type": "code",
   "execution_count": 61,
   "metadata": {},
   "outputs": [],
   "source": [
    "xgb_def_submission = pd.DataFrame({'customer_id': customer_id,\n",
    "                               'credit_card_default':  xgb_default_preds})"
   ]
  },
  {
   "cell_type": "code",
   "execution_count": 63,
   "metadata": {},
   "outputs": [
    {
     "data": {
      "text/plain": [
       "(11383, 2)"
      ]
     },
     "execution_count": 63,
     "metadata": {},
     "output_type": "execute_result"
    }
   ],
   "source": [
    "xgb_def_submission.shape"
   ]
  },
  {
   "cell_type": "code",
   "execution_count": 64,
   "metadata": {},
   "outputs": [],
   "source": [
    "xgb_def_submission.to_csv('xgb_def_submission.csv', index=False)"
   ]
  },
  {
   "cell_type": "code",
   "execution_count": null,
   "metadata": {},
   "outputs": [],
   "source": []
  },
  {
   "cell_type": "code",
   "execution_count": 1,
   "metadata": {},
   "outputs": [],
   "source": [
    "import imblearn"
   ]
  },
  {
   "cell_type": "code",
   "execution_count": null,
   "metadata": {},
   "outputs": [],
   "source": []
  }
 ],
 "metadata": {
  "kernelspec": {
   "display_name": "Python 3",
   "language": "python",
   "name": "python3"
  },
  "language_info": {
   "codemirror_mode": {
    "name": "ipython",
    "version": 3
   },
   "file_extension": ".py",
   "mimetype": "text/x-python",
   "name": "python",
   "nbconvert_exporter": "python",
   "pygments_lexer": "ipython3",
   "version": "3.8.1"
  }
 },
 "nbformat": 4,
 "nbformat_minor": 4
}
