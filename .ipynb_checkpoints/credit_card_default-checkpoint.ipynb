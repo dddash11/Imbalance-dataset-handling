{
 "cells": [
  {
   "cell_type": "code",
   "execution_count": 1,
   "metadata": {},
   "outputs": [],
   "source": [
    "import pandas as pd\n",
    "import numpy as np\n",
    "import matplotlib.pyplot as plt\n",
    "import seaborn as sns\n",
    "%matplotlib inline"
   ]
  },
  {
   "cell_type": "code",
   "execution_count": 2,
   "metadata": {},
   "outputs": [],
   "source": [
    "train = pd.read_csv(\"train.csv\")\n",
    "test = pd.read_csv(\"test.csv\")"
   ]
  },
  {
   "cell_type": "code",
   "execution_count": 3,
   "metadata": {},
   "outputs": [
    {
     "data": {
      "text/plain": [
       "((45528, 19), (11383, 18))"
      ]
     },
     "execution_count": 3,
     "metadata": {},
     "output_type": "execute_result"
    }
   ],
   "source": [
    "train.shape, test.shape"
   ]
  },
  {
   "cell_type": "code",
   "execution_count": 4,
   "metadata": {},
   "outputs": [
    {
     "data": {
      "text/html": [
       "<div>\n",
       "<style scoped>\n",
       "    .dataframe tbody tr th:only-of-type {\n",
       "        vertical-align: middle;\n",
       "    }\n",
       "\n",
       "    .dataframe tbody tr th {\n",
       "        vertical-align: top;\n",
       "    }\n",
       "\n",
       "    .dataframe thead th {\n",
       "        text-align: right;\n",
       "    }\n",
       "</style>\n",
       "<table border=\"1\" class=\"dataframe\">\n",
       "  <thead>\n",
       "    <tr style=\"text-align: right;\">\n",
       "      <th></th>\n",
       "      <th>customer_id</th>\n",
       "      <th>name</th>\n",
       "      <th>age</th>\n",
       "      <th>gender</th>\n",
       "      <th>owns_car</th>\n",
       "      <th>owns_house</th>\n",
       "      <th>no_of_children</th>\n",
       "      <th>net_yearly_income</th>\n",
       "      <th>no_of_days_employed</th>\n",
       "      <th>occupation_type</th>\n",
       "      <th>total_family_members</th>\n",
       "      <th>migrant_worker</th>\n",
       "      <th>yearly_debt_payments</th>\n",
       "      <th>credit_limit</th>\n",
       "      <th>credit_limit_used(%)</th>\n",
       "      <th>credit_score</th>\n",
       "      <th>prev_defaults</th>\n",
       "      <th>default_in_last_6months</th>\n",
       "    </tr>\n",
       "  </thead>\n",
       "  <tbody>\n",
       "    <tr>\n",
       "      <th>0</th>\n",
       "      <td>CST_142525</td>\n",
       "      <td>Siva</td>\n",
       "      <td>52</td>\n",
       "      <td>F</td>\n",
       "      <td>Y</td>\n",
       "      <td>N</td>\n",
       "      <td>0.0</td>\n",
       "      <td>232640.53</td>\n",
       "      <td>998.0</td>\n",
       "      <td>Unknown</td>\n",
       "      <td>2.0</td>\n",
       "      <td>0.0</td>\n",
       "      <td>14406.73</td>\n",
       "      <td>26524.40</td>\n",
       "      <td>4</td>\n",
       "      <td>779.0</td>\n",
       "      <td>0</td>\n",
       "      <td>0</td>\n",
       "    </tr>\n",
       "    <tr>\n",
       "      <th>1</th>\n",
       "      <td>CST_129215</td>\n",
       "      <td>Scott</td>\n",
       "      <td>48</td>\n",
       "      <td>F</td>\n",
       "      <td>N</td>\n",
       "      <td>N</td>\n",
       "      <td>1.0</td>\n",
       "      <td>284396.79</td>\n",
       "      <td>1338.0</td>\n",
       "      <td>Unknown</td>\n",
       "      <td>3.0</td>\n",
       "      <td>0.0</td>\n",
       "      <td>57479.99</td>\n",
       "      <td>68998.72</td>\n",
       "      <td>70</td>\n",
       "      <td>806.0</td>\n",
       "      <td>0</td>\n",
       "      <td>0</td>\n",
       "    </tr>\n",
       "    <tr>\n",
       "      <th>2</th>\n",
       "      <td>CST_138443</td>\n",
       "      <td>Victoria</td>\n",
       "      <td>50</td>\n",
       "      <td>F</td>\n",
       "      <td>N</td>\n",
       "      <td>N</td>\n",
       "      <td>1.0</td>\n",
       "      <td>149419.28</td>\n",
       "      <td>1210.0</td>\n",
       "      <td>Unknown</td>\n",
       "      <td>3.0</td>\n",
       "      <td>0.0</td>\n",
       "      <td>21611.01</td>\n",
       "      <td>25187.80</td>\n",
       "      <td>71</td>\n",
       "      <td>528.0</td>\n",
       "      <td>2</td>\n",
       "      <td>0</td>\n",
       "    </tr>\n",
       "    <tr>\n",
       "      <th>3</th>\n",
       "      <td>CST_123812</td>\n",
       "      <td>John McCrank</td>\n",
       "      <td>30</td>\n",
       "      <td>F</td>\n",
       "      <td>N</td>\n",
       "      <td>N</td>\n",
       "      <td>1.0</td>\n",
       "      <td>160437.54</td>\n",
       "      <td>503.0</td>\n",
       "      <td>Laborers</td>\n",
       "      <td>2.0</td>\n",
       "      <td>1.0</td>\n",
       "      <td>28990.76</td>\n",
       "      <td>29179.39</td>\n",
       "      <td>9</td>\n",
       "      <td>815.0</td>\n",
       "      <td>0</td>\n",
       "      <td>0</td>\n",
       "    </tr>\n",
       "    <tr>\n",
       "      <th>4</th>\n",
       "      <td>CST_144450</td>\n",
       "      <td>Martinne</td>\n",
       "      <td>52</td>\n",
       "      <td>M</td>\n",
       "      <td>N</td>\n",
       "      <td>Y</td>\n",
       "      <td>0.0</td>\n",
       "      <td>233480.37</td>\n",
       "      <td>157.0</td>\n",
       "      <td>Laborers</td>\n",
       "      <td>2.0</td>\n",
       "      <td>1.0</td>\n",
       "      <td>54213.72</td>\n",
       "      <td>82331.82</td>\n",
       "      <td>82</td>\n",
       "      <td>613.0</td>\n",
       "      <td>1</td>\n",
       "      <td>1</td>\n",
       "    </tr>\n",
       "  </tbody>\n",
       "</table>\n",
       "</div>"
      ],
      "text/plain": [
       "  customer_id          name  age gender owns_car owns_house  no_of_children  \\\n",
       "0  CST_142525          Siva   52      F        Y          N             0.0   \n",
       "1  CST_129215         Scott   48      F        N          N             1.0   \n",
       "2  CST_138443      Victoria   50      F        N          N             1.0   \n",
       "3  CST_123812  John McCrank   30      F        N          N             1.0   \n",
       "4  CST_144450      Martinne   52      M        N          Y             0.0   \n",
       "\n",
       "   net_yearly_income  no_of_days_employed occupation_type  \\\n",
       "0          232640.53                998.0         Unknown   \n",
       "1          284396.79               1338.0         Unknown   \n",
       "2          149419.28               1210.0         Unknown   \n",
       "3          160437.54                503.0        Laborers   \n",
       "4          233480.37                157.0        Laborers   \n",
       "\n",
       "   total_family_members  migrant_worker  yearly_debt_payments  credit_limit  \\\n",
       "0                   2.0             0.0              14406.73      26524.40   \n",
       "1                   3.0             0.0              57479.99      68998.72   \n",
       "2                   3.0             0.0              21611.01      25187.80   \n",
       "3                   2.0             1.0              28990.76      29179.39   \n",
       "4                   2.0             1.0              54213.72      82331.82   \n",
       "\n",
       "   credit_limit_used(%)  credit_score  prev_defaults  default_in_last_6months  \n",
       "0                     4         779.0              0                        0  \n",
       "1                    70         806.0              0                        0  \n",
       "2                    71         528.0              2                        0  \n",
       "3                     9         815.0              0                        0  \n",
       "4                    82         613.0              1                        1  "
      ]
     },
     "execution_count": 4,
     "metadata": {},
     "output_type": "execute_result"
    }
   ],
   "source": [
    "test.head()"
   ]
  },
  {
   "cell_type": "code",
   "execution_count": 5,
   "metadata": {},
   "outputs": [
    {
     "name": "stdout",
     "output_type": "stream",
     "text": [
      "<class 'pandas.core.frame.DataFrame'>\n",
      "RangeIndex: 45528 entries, 0 to 45527\n",
      "Data columns (total 19 columns):\n",
      " #   Column                   Non-Null Count  Dtype  \n",
      "---  ------                   --------------  -----  \n",
      " 0   customer_id              45528 non-null  object \n",
      " 1   name                     45528 non-null  object \n",
      " 2   age                      45528 non-null  int64  \n",
      " 3   gender                   45528 non-null  object \n",
      " 4   owns_car                 44981 non-null  object \n",
      " 5   owns_house               45528 non-null  object \n",
      " 6   no_of_children           44754 non-null  float64\n",
      " 7   net_yearly_income        45528 non-null  float64\n",
      " 8   no_of_days_employed      45065 non-null  float64\n",
      " 9   occupation_type          45528 non-null  object \n",
      " 10  total_family_members     45445 non-null  float64\n",
      " 11  migrant_worker           45441 non-null  float64\n",
      " 12  yearly_debt_payments     45433 non-null  float64\n",
      " 13  credit_limit             45528 non-null  float64\n",
      " 14  credit_limit_used(%)     45528 non-null  int64  \n",
      " 15  credit_score             45520 non-null  float64\n",
      " 16  prev_defaults            45528 non-null  int64  \n",
      " 17  default_in_last_6months  45528 non-null  int64  \n",
      " 18  credit_card_default      45528 non-null  int64  \n",
      "dtypes: float64(8), int64(5), object(6)\n",
      "memory usage: 6.6+ MB\n"
     ]
    }
   ],
   "source": [
    "train.info()"
   ]
  },
  {
   "cell_type": "code",
   "execution_count": 6,
   "metadata": {},
   "outputs": [
    {
     "name": "stdout",
     "output_type": "stream",
     "text": [
      "<class 'pandas.core.frame.DataFrame'>\n",
      "RangeIndex: 11383 entries, 0 to 11382\n",
      "Data columns (total 18 columns):\n",
      " #   Column                   Non-Null Count  Dtype  \n",
      "---  ------                   --------------  -----  \n",
      " 0   customer_id              11383 non-null  object \n",
      " 1   name                     11383 non-null  object \n",
      " 2   age                      11383 non-null  int64  \n",
      " 3   gender                   11383 non-null  object \n",
      " 4   owns_car                 11251 non-null  object \n",
      " 5   owns_house               11383 non-null  object \n",
      " 6   no_of_children           11193 non-null  float64\n",
      " 7   net_yearly_income        11383 non-null  float64\n",
      " 8   no_of_days_employed      11278 non-null  float64\n",
      " 9   occupation_type          11383 non-null  object \n",
      " 10  total_family_members     11352 non-null  float64\n",
      " 11  migrant_worker           11357 non-null  float64\n",
      " 12  yearly_debt_payments     11361 non-null  float64\n",
      " 13  credit_limit             11383 non-null  float64\n",
      " 14  credit_limit_used(%)     11383 non-null  int64  \n",
      " 15  credit_score             11380 non-null  float64\n",
      " 16  prev_defaults            11383 non-null  int64  \n",
      " 17  default_in_last_6months  11383 non-null  int64  \n",
      "dtypes: float64(8), int64(4), object(6)\n",
      "memory usage: 1.6+ MB\n"
     ]
    }
   ],
   "source": [
    "test.info()"
   ]
  },
  {
   "cell_type": "markdown",
   "metadata": {},
   "source": [
    "#### Null value handling"
   ]
  },
  {
   "cell_type": "code",
   "execution_count": 7,
   "metadata": {},
   "outputs": [
    {
     "name": "stdout",
     "output_type": "stream",
     "text": [
      "N    29743\n",
      "Y    15238\n",
      "Name: owns_car, dtype: int64\n",
      "0.0    31241\n",
      "1.0     8985\n",
      "2.0     3862\n",
      "3.0      584\n",
      "4.0       60\n",
      "5.0       13\n",
      "6.0        6\n",
      "8.0        1\n",
      "7.0        1\n",
      "9.0        1\n",
      "Name: no_of_children, dtype: int64\n",
      "2.0     23455\n",
      "1.0      9913\n",
      "3.0      7812\n",
      "4.0      3623\n",
      "5.0       564\n",
      "6.0        57\n",
      "7.0        12\n",
      "8.0         6\n",
      "10.0        2\n",
      "9.0         1\n",
      "Name: total_family_members, dtype: int64\n",
      "0.0    37302\n",
      "1.0     8139\n",
      "Name: migrant_worker, dtype: int64\n"
     ]
    }
   ],
   "source": [
    "print(train.owns_car.value_counts())\n",
    "print(train.no_of_children.value_counts())\n",
    "print(train.total_family_members.value_counts())\n",
    "print(train.migrant_worker.value_counts())"
   ]
  },
  {
   "cell_type": "code",
   "execution_count": 9,
   "metadata": {},
   "outputs": [
    {
     "name": "stdout",
     "output_type": "stream",
     "text": [
      "N N\n",
      "0.0 0.0\n",
      "2.0 2.0\n",
      "0.0 0.0\n"
     ]
    }
   ],
   "source": [
    "print(train[\"owns_car\"].mode()[0], test[\"owns_car\"].mode()[0])\n",
    "print(train[\"no_of_children\"].mode()[0], test[\"no_of_children\"].mode()[0])\n",
    "print(train[\"total_family_members\"].mode()[0],test[\"total_family_members\"].mode()[0])\n",
    "print(train[\"migrant_worker\"].mode()[0], test[\"migrant_worker\"].mode()[0])"
   ]
  },
  {
   "cell_type": "code",
   "execution_count": 10,
   "metadata": {},
   "outputs": [],
   "source": [
    "#replace with mode\n",
    "train[\"owns_car\"].fillna(train[\"owns_car\"].mode()[0], inplace=True)\n",
    "test[\"owns_car\"].fillna(test[\"owns_car\"].mode()[0], inplace=True)\n",
    "\n",
    "train[\"no_of_children\"].fillna(train[\"no_of_children\"].mode()[0], inplace=True)\n",
    "test[\"no_of_children\"].fillna(test[\"no_of_children\"].mode()[0], inplace=True)\n",
    "\n",
    "train[\"total_family_members\"].fillna(train[\"total_family_members\"].mode()[0], inplace=True)\n",
    "test[\"total_family_members\"].fillna(test[\"total_family_members\"].mode()[0], inplace=True)\n",
    "\n",
    "train[\"migrant_worker\"].fillna(train[\"migrant_worker\"].mode()[0], inplace=True)\n",
    "test[\"migrant_worker\"].fillna(test[\"migrant_worker\"].mode()[0], inplace=True)"
   ]
  },
  {
   "cell_type": "code",
   "execution_count": 11,
   "metadata": {},
   "outputs": [
    {
     "name": "stdout",
     "output_type": "stream",
     "text": [
      "<class 'pandas.core.frame.DataFrame'>\n",
      "RangeIndex: 45528 entries, 0 to 45527\n",
      "Data columns (total 19 columns):\n",
      " #   Column                   Non-Null Count  Dtype  \n",
      "---  ------                   --------------  -----  \n",
      " 0   customer_id              45528 non-null  object \n",
      " 1   name                     45528 non-null  object \n",
      " 2   age                      45528 non-null  int64  \n",
      " 3   gender                   45528 non-null  object \n",
      " 4   owns_car                 45528 non-null  object \n",
      " 5   owns_house               45528 non-null  object \n",
      " 6   no_of_children           45528 non-null  float64\n",
      " 7   net_yearly_income        45528 non-null  float64\n",
      " 8   no_of_days_employed      45065 non-null  float64\n",
      " 9   occupation_type          45528 non-null  object \n",
      " 10  total_family_members     45528 non-null  float64\n",
      " 11  migrant_worker           45528 non-null  float64\n",
      " 12  yearly_debt_payments     45433 non-null  float64\n",
      " 13  credit_limit             45528 non-null  float64\n",
      " 14  credit_limit_used(%)     45528 non-null  int64  \n",
      " 15  credit_score             45520 non-null  float64\n",
      " 16  prev_defaults            45528 non-null  int64  \n",
      " 17  default_in_last_6months  45528 non-null  int64  \n",
      " 18  credit_card_default      45528 non-null  int64  \n",
      "dtypes: float64(8), int64(5), object(6)\n",
      "memory usage: 6.6+ MB\n"
     ]
    }
   ],
   "source": [
    "train.info()"
   ]
  },
  {
   "cell_type": "code",
   "execution_count": null,
   "metadata": {},
   "outputs": [],
   "source": []
  },
  {
   "cell_type": "code",
   "execution_count": null,
   "metadata": {},
   "outputs": [],
   "source": [
    "sns.boxplot(test.net_yearly_income)"
   ]
  },
  {
   "cell_type": "code",
   "execution_count": null,
   "metadata": {},
   "outputs": [],
   "source": [
    "sns.scatterplot(data=train, x=train.no_of_days_employed, y=train.no_of_days_employed.value_counts())"
   ]
  },
  {
   "cell_type": "code",
   "execution_count": null,
   "metadata": {},
   "outputs": [],
   "source": [
    "fig, axes = plt.subplots(1, 3)\n",
    "\n",
    "fig.suptitle('detecting outliers in training set with null values')\n",
    "\n",
    "sns.boxplot(ax=axes[0], data=train.no_of_days_employed)\n",
    "sns.boxplot(ax=axes[1], data=train.yearly_debt_payments)\n",
    "sns.boxplot(ax=axes[2], data=train.credit_score)"
   ]
  },
  {
   "cell_type": "markdown",
   "metadata": {},
   "source": [
    "Since a lot of outliers are present in the dataset, I am not removing them. But I will find the mean of the rest of the data and replace it with the null values"
   ]
  },
  {
   "cell_type": "code",
   "execution_count": null,
   "metadata": {},
   "outputs": [],
   "source": [
    "df = pd.concat([train, test], axis=0)"
   ]
  },
  {
   "cell_type": "code",
   "execution_count": null,
   "metadata": {},
   "outputs": [],
   "source": [
    "sns.boxplot(df.yearly_debt_payments)"
   ]
  },
  {
   "cell_type": "code",
   "execution_count": null,
   "metadata": {},
   "outputs": [],
   "source": [
    "print(\"Yearly debt payments null value handling\")\n",
    "\n",
    "print(\"Total null values in yearly debt payments in both train and test: \", df.yearly_debt_payments.isnull().sum())\n",
    "print(\"Null value percent: \",(df.yearly_debt_payments.isnull().sum()*100)/len(df.yearly_debt_payments), \"%\")\n",
    "\n",
    "print(\"\\nOutliers detection using IQR\")\n",
    "\n",
    "Q1_ydp = df[\"yearly_debt_payments\"].quantile(0.25)\n",
    "Q3_ydp = df[\"yearly_debt_payments\"].quantile(0.75)\n",
    "\n",
    "print(\"First quantile: \",Q1_ydp)\n",
    "print(\"3rd quantile: \",Q3_ydp)\n",
    "\n",
    "IQR_ydp = Q3_ydp - Q1_ydp\n",
    "print(\"IQR: \",IQR_ydp)\n",
    "print(\"threshold: \", 1.5*IQR_ydp)\n",
    "\n",
    "ydp_out = df[np.logical_or(df[\"yearly_debt_payments\"] < (Q1_ydp - (1.5 * IQR_ydp)), df[\"yearly_debt_payments\"] > (Q3_ydp + (1.5 * IQR_ydp)))]\n",
    "\n",
    "print(\"Percentage of outliers: \", ((ydp_out.shape[0]/(df.shape[0]-df.yearly_debt_payments.isnull().sum()))*100), \"%\")\n",
    "\n",
    "ydp_mean_replace = (df.yearly_debt_payments.sum() - ydp_out.yearly_debt_payments.sum()) / (len(df.yearly_debt_payments) - len(ydp_out.yearly_debt_payments))\n",
    "\n",
    "print(\"\\n\")\n",
    "print(\"Mean excluding outliers: \",ydp_mean_replace)\n",
    "print(\"Mean including outliers: \",df[\"yearly_debt_payments\"].mean())\n",
    "print(\"difference: \", df[\"yearly_debt_payments\"].mean()-ydp_mean_replace)\n",
    "\n",
    "#replace with mean\n",
    "train[\"yearly_debt_payments\"].fillna(ydp_mean_replace, inplace=True)\n",
    "test[\"yearly_debt_payments\"].fillna(ydp_mean_replace, inplace=True)"
   ]
  },
  {
   "cell_type": "code",
   "execution_count": null,
   "metadata": {},
   "outputs": [],
   "source": [
    "df.no_of_days_employed.plot(kind=\"box\")"
   ]
  },
  {
   "cell_type": "code",
   "execution_count": null,
   "metadata": {},
   "outputs": [],
   "source": [
    "print(\"Number of days employed null value handling\")\n",
    "\n",
    "print(\"Total null values in yearly debt payments in both train and test: \", df.no_of_days_employed.isnull().sum())\n",
    "print(\"Null value percent: \",(df.no_of_days_employed.isnull().sum()*100)/len(df.no_of_days_employed), \"%\")\n",
    "\n",
    "print(\"\\nOutliers detection using IQR\")\n",
    "\n",
    "Q1_nde = df[\"no_of_days_employed\"].quantile(0.25)\n",
    "Q3_nde = df[\"no_of_days_employed\"].quantile(0.75)\n",
    "\n",
    "print(\"First quantile: \",Q1_nde)\n",
    "print(\"3rd quantile: \",Q3_nde)\n",
    "\n",
    "IQR_nde = Q3_nde - Q1_nde\n",
    "print(\"IQR: \",IQR_nde)\n",
    "print(\"threshold: \", 1.5*IQR_nde)\n",
    "\n",
    "nde_out = df[np.logical_or(df[\"no_of_days_employed\"] < (Q1_nde - (1.5 * IQR_nde)), df[\"no_of_days_employed\"] > (Q3_nde + (1.5 * IQR_nde)))]\n",
    "\n",
    "print(\"Percentage of outliers: \", ((nde_out.shape[0]/(df.shape[0]-df.no_of_days_employed.isnull().sum()))*100), \"%\")\n",
    "\n",
    "nde_mean_replace = (df.no_of_days_employed.sum() - ydp_out.no_of_days_employed.sum()) / (len(df.no_of_days_employed) - len(ydp_out.no_of_days_employed))\n",
    "\n",
    "print(\"\\n\")\n",
    "print(\"Mean excluding outliers: \",nde_mean_replace)\n",
    "print(\"Mean including outliers: \",df[\"no_of_days_employed\"].mean())\n",
    "print(\"difference: \", df[\"no_of_days_employed\"].mean()-nde_mean_replace)\n",
    "\n",
    "#replace with mean\n",
    "train[\"no_of_days_employed\"].fillna(nde_mean_replace, inplace=True)\n",
    "test[\"no_of_days_employed\"].fillna(nde_mean_replace, inplace=True)"
   ]
  },
  {
   "cell_type": "code",
   "execution_count": null,
   "metadata": {},
   "outputs": [],
   "source": [
    "# since no outliers in credit score column  directly replace with mean\n",
    "train[\"credit_score\"].fillna(df[\"credit_score\"].mean(), inplace=True)\n",
    "test[\"credit_score\"].fillna(df[\"credit_score\"].mean(), inplace=True)"
   ]
  },
  {
   "cell_type": "code",
   "execution_count": null,
   "metadata": {},
   "outputs": [],
   "source": [
    "test.info()"
   ]
  },
  {
   "cell_type": "code",
   "execution_count": null,
   "metadata": {},
   "outputs": [],
   "source": []
  },
  {
   "cell_type": "code",
   "execution_count": null,
   "metadata": {},
   "outputs": [],
   "source": []
  },
  {
   "cell_type": "code",
   "execution_count": null,
   "metadata": {},
   "outputs": [],
   "source": []
  },
  {
   "cell_type": "code",
   "execution_count": null,
   "metadata": {},
   "outputs": [],
   "source": []
  },
  {
   "cell_type": "code",
   "execution_count": null,
   "metadata": {},
   "outputs": [],
   "source": [
    "#check outliers in age column\n",
    "sns.boxplot(train[\"age\"])"
   ]
  },
  {
   "cell_type": "code",
   "execution_count": null,
   "metadata": {},
   "outputs": [],
   "source": []
  },
  {
   "cell_type": "code",
   "execution_count": null,
   "metadata": {},
   "outputs": [],
   "source": []
  }
 ],
 "metadata": {
  "kernelspec": {
   "display_name": "Python 3",
   "language": "python",
   "name": "python3"
  },
  "language_info": {
   "codemirror_mode": {
    "name": "ipython",
    "version": 3
   },
   "file_extension": ".py",
   "mimetype": "text/x-python",
   "name": "python",
   "nbconvert_exporter": "python",
   "pygments_lexer": "ipython3",
   "version": "3.8.1"
  }
 },
 "nbformat": 4,
 "nbformat_minor": 4
}
